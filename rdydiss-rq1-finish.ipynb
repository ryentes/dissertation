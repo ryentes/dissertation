{
 "cells": [
  {
   "cell_type": "code",
   "execution_count": 1,
   "metadata": {},
   "outputs": [],
   "source": [
    "library(rdydisstools)\n",
    "library(ggplot2)\n",
    "setwd('~/notebooks/dissertation')\n",
    "loadpackages(c('doParallel', 'foreach', 'logging', 'glue', 'grid', 'gridExtra', 'dplyr', 'ggplot2'))\n",
    "df <- load('artifacts/rq1/maxJ.RData')"
   ]
  },
  {
   "cell_type": "markdown",
   "metadata": {},
   "source": [
    "## mean(maxJ) over all samples. If informedness is better than chance in 75% of samples go go go."
   ]
  },
  {
   "cell_type": "code",
   "execution_count": 11,
   "metadata": {},
   "outputs": [
    {
     "name": "stderr",
     "output_type": "stream",
     "text": [
      "`stat_bin()` using `bins = 30`. Pick better value with `binwidth`.\n"
     ]
    },
    {
     "data": {},
     "metadata": {},
     "output_type": "display_data"
    },
    {
     "data": {
      "image/png": "[encoded data removed]",
      "text/plain": [
       "plot without title"
      ]
     },
     "metadata": {},
     "output_type": "display_data"
    }
   ],
   "source": [
    "maxJ %>% ggplot(aes(x=ls)) + geom_histogram()"
   ]
  },
  {
   "cell_type": "markdown",
   "metadata": {},
   "source": [
    "## Look at stability of the SD at which J is max across samples"
   ]
  },
  {
   "cell_type": "code",
   "execution_count": 27,
   "metadata": {},
   "outputs": [
    {
     "data": {
      "text/html": [
       "0.1672"
      ],
      "text/latex": [
       "0.1672"
      ],
      "text/markdown": [
       "0.1672"
      ],
      "text/plain": [
       "[1] 0.1672"
      ]
     },
     "metadata": {},
     "output_type": "display_data"
    },
    {
     "data": {
      "text/html": [
       "0.9538"
      ],
      "text/latex": [
       "0.9538"
      ],
      "text/markdown": [
       "0.9538"
      ],
      "text/plain": [
       "[1] 0.9538"
      ]
     },
     "metadata": {},
     "output_type": "display_data"
    },
    {
     "data": {
      "text/html": [
       "0.7866"
      ],
      "text/latex": [
       "0.7866"
      ],
      "text/markdown": [
       "0.7866"
      ],
      "text/plain": [
       "[1] 0.7866"
      ]
     },
     "metadata": {},
     "output_type": "display_data"
    },
    {
     "data": {
      "image/png": "[encoded data removed]",
      "text/plain": [
       "Plot with title “ecdf(maxJ$ls)”"
      ]
     },
     "metadata": {},
     "output_type": "display_data"
    }
   ],
   "source": [
    "plot(ecdf(maxJ$ls))\n",
    "f <- ecdf(maxJ$ls)\n",
    "f(0)\n",
    "f(1)\n",
    "f(1)- f(0)"
   ]
  },
  {
   "cell_type": "code",
   "execution_count": 5,
   "metadata": {},
   "outputs": [
    {
     "data": {
      "text/html": [
       "<table>\n",
       "<thead><tr><th></th><th scope=col>ls.range</th><th scope=col>ls.informedness</th><th scope=col>ls.meanJ</th><th scope=col>ls.sdJ</th><th scope=col>eo.range</th><th scope=col>eo.informedness</th><th scope=col>eo.meanJ</th><th scope=col>eo.sdJ</th><th scope=col>md.range</th><th scope=col>md.informedness</th><th scope=col>md.meanJ</th><th scope=col>md.sdJ</th></tr></thead>\n",
       "<tbody>\n",
       "\t<tr><th scope=row>31</th><td>0.0        </td><td>0.3591659  </td><td>0.14512739 </td><td>0.13173527 </td><td>-0.3       </td><td>0.13494576 </td><td>0.008290483</td><td>0.02819063 </td><td>1.4        </td><td>0.1449073  </td><td>0.02921494 </td><td>0.07223822 </td></tr>\n",
       "\t<tr><th scope=row>36</th><td>0.5        </td><td>0.2142857  </td><td>0.10869886 </td><td>0.10508109 </td><td> 0.6       </td><td>0.10601673 </td><td>0.037241281</td><td>0.04143076 </td><td>0.4        </td><td>0.2226512  </td><td>0.05523293 </td><td>0.09172386 </td></tr>\n",
       "\t<tr><th scope=row>39</th><td>0.8        </td><td>0.2400000  </td><td>0.12024159 </td><td>0.11493342 </td><td>-0.1       </td><td>0.12842105 </td><td>0.011458154</td><td>0.03810376 </td><td>0.3        </td><td>0.3410526  </td><td>0.12075928 </td><td>0.09210940 </td></tr>\n",
       "\t<tr><th scope=row>32</th><td>0.1        </td><td>0.1851038  </td><td>0.08996978 </td><td>0.08976647 </td><td> 0.3       </td><td>0.10280830 </td><td>0.027050181</td><td>0.02984244 </td><td>0.5        </td><td>0.2319902  </td><td>0.03557317 </td><td>0.08736082 </td></tr>\n",
       "\t<tr><th scope=row>42</th><td>1.1        </td><td>0.1142857  </td><td>0.04556924 </td><td>0.06500177 </td><td> 0.5       </td><td>0.18156682 </td><td>0.055359976</td><td>0.05429461 </td><td>0.9        </td><td>0.4165899  </td><td>0.14924832 </td><td>0.14349445 </td></tr>\n",
       "\t<tr><th scope=row>311</th><td>0.0        </td><td>0.2258242  </td><td>0.10094654 </td><td>0.09740270 </td><td>-0.5       </td><td>0.08805031 </td><td>0.013636637</td><td>0.02589012 </td><td>0.0        </td><td>0.1371829  </td><td>0.03662731 </td><td>0.05849961 </td></tr>\n",
       "</tbody>\n",
       "</table>\n"
      ],
      "text/latex": [
       "\\begin{tabular}{r|llllllllllll}\n",
       "  & ls.range & ls.informedness & ls.meanJ & ls.sdJ & eo.range & eo.informedness & eo.meanJ & eo.sdJ & md.range & md.informedness & md.meanJ & md.sdJ\\\\\n",
       "\\hline\n",
       "\t31 & 0.0         & 0.3591659   & 0.14512739  & 0.13173527  & -0.3        & 0.13494576  & 0.008290483 & 0.02819063  & 1.4         & 0.1449073   & 0.02921494  & 0.07223822 \\\\\n",
       "\t36 & 0.5         & 0.2142857   & 0.10869886  & 0.10508109  &  0.6        & 0.10601673  & 0.037241281 & 0.04143076  & 0.4         & 0.2226512   & 0.05523293  & 0.09172386 \\\\\n",
       "\t39 & 0.8         & 0.2400000   & 0.12024159  & 0.11493342  & -0.1        & 0.12842105  & 0.011458154 & 0.03810376  & 0.3         & 0.3410526   & 0.12075928  & 0.09210940 \\\\\n",
       "\t32 & 0.1         & 0.1851038   & 0.08996978  & 0.08976647  &  0.3        & 0.10280830  & 0.027050181 & 0.02984244  & 0.5         & 0.2319902   & 0.03557317  & 0.08736082 \\\\\n",
       "\t42 & 1.1         & 0.1142857   & 0.04556924  & 0.06500177  &  0.5        & 0.18156682  & 0.055359976 & 0.05429461  & 0.9         & 0.4165899   & 0.14924832  & 0.14349445 \\\\\n",
       "\t311 & 0.0         & 0.2258242   & 0.10094654  & 0.09740270  & -0.5        & 0.08805031  & 0.013636637 & 0.02589012  & 0.0         & 0.1371829   & 0.03662731  & 0.05849961 \\\\\n",
       "\\end{tabular}\n"
      ],
      "text/markdown": [
       "\n",
       "| <!--/--> | ls.range | ls.informedness | ls.meanJ | ls.sdJ | eo.range | eo.informedness | eo.meanJ | eo.sdJ | md.range | md.informedness | md.meanJ | md.sdJ | \n",
       "|---|---|---|---|---|---|\n",
       "| 31 | 0.0         | 0.3591659   | 0.14512739  | 0.13173527  | -0.3        | 0.13494576  | 0.008290483 | 0.02819063  | 1.4         | 0.1449073   | 0.02921494  | 0.07223822  | \n",
       "| 36 | 0.5         | 0.2142857   | 0.10869886  | 0.10508109  |  0.6        | 0.10601673  | 0.037241281 | 0.04143076  | 0.4         | 0.2226512   | 0.05523293  | 0.09172386  | \n",
       "| 39 | 0.8         | 0.2400000   | 0.12024159  | 0.11493342  | -0.1        | 0.12842105  | 0.011458154 | 0.03810376  | 0.3         | 0.3410526   | 0.12075928  | 0.09210940  | \n",
       "| 32 | 0.1         | 0.1851038   | 0.08996978  | 0.08976647  |  0.3        | 0.10280830  | 0.027050181 | 0.02984244  | 0.5         | 0.2319902   | 0.03557317  | 0.08736082  | \n",
       "| 42 | 1.1         | 0.1142857   | 0.04556924  | 0.06500177  |  0.5        | 0.18156682  | 0.055359976 | 0.05429461  | 0.9         | 0.4165899   | 0.14924832  | 0.14349445  | \n",
       "| 311 | 0.0         | 0.2258242   | 0.10094654  | 0.09740270  | -0.5        | 0.08805031  | 0.013636637 | 0.02589012  | 0.0         | 0.1371829   | 0.03662731  | 0.05849961  | \n",
       "\n",
       "\n"
      ],
      "text/plain": [
       "    ls.range ls.informedness ls.meanJ   ls.sdJ     eo.range eo.informedness\n",
       "31  0.0      0.3591659       0.14512739 0.13173527 -0.3     0.13494576     \n",
       "36  0.5      0.2142857       0.10869886 0.10508109  0.6     0.10601673     \n",
       "39  0.8      0.2400000       0.12024159 0.11493342 -0.1     0.12842105     \n",
       "32  0.1      0.1851038       0.08996978 0.08976647  0.3     0.10280830     \n",
       "42  1.1      0.1142857       0.04556924 0.06500177  0.5     0.18156682     \n",
       "311 0.0      0.2258242       0.10094654 0.09740270 -0.5     0.08805031     \n",
       "    eo.meanJ    eo.sdJ     md.range md.informedness md.meanJ   md.sdJ    \n",
       "31  0.008290483 0.02819063 1.4      0.1449073       0.02921494 0.07223822\n",
       "36  0.037241281 0.04143076 0.4      0.2226512       0.05523293 0.09172386\n",
       "39  0.011458154 0.03810376 0.3      0.3410526       0.12075928 0.09210940\n",
       "32  0.027050181 0.02984244 0.5      0.2319902       0.03557317 0.08736082\n",
       "42  0.055359976 0.05429461 0.9      0.4165899       0.14924832 0.14349445\n",
       "311 0.013636637 0.02589012 0.0      0.1371829       0.03662731 0.05849961"
      ]
     },
     "metadata": {},
     "output_type": "display_data"
    }
   ],
   "source": [
    "# Range here is misleading. It's actually the point along the range that \n",
    "# the maximum informedness was located. Basically the maxLookup uses a\n",
    "# data frame with columns range, informedness, with range taking on all\n",
    "# of the values of the range -3:3 by .1 increments. Then it finds the\n",
    "# maximum value of informedness and takes that row (i.e. the informedness\n",
    "# and it's associated location along the range). The code makes this \n",
    "# difficult to follow if you don't know this.\n"
   ]
  },
  {
   "cell_type": "code",
   "execution_count": null,
   "metadata": {},
   "outputs": [],
   "source": [
    "load(file='~/notebooks/dissertation/artifacts/rq1/maxJ.RData')\n",
    "maxJ %>% ggplot(aes(x=ls.range)) + geom_histogram(aes(y=stat(count))) +\n",
    "    ggtitle(glue::glue('Figure 5: Histogram of SD thresholds for Max J')) +\n",
    "    xlim(c(-3,3)) +\n",
    "    theme(legend.position=\"bottom\", text=element_text(family=\"Times New Roman\", size=12))\n"
   ]
  }
 ],
 "metadata": {
  "kernelspec": {
   "display_name": "R",
   "language": "R",
   "name": "ir"
  },
  "language_info": {
   "codemirror_mode": "r",
   "file_extension": ".r",
   "mimetype": "text/x-r-source",
   "name": "R",
   "pygments_lexer": "r",
   "version": "3.6.0"
  }
 },
 "nbformat": 4,
 "nbformat_minor": 2
}
