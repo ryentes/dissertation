{
 "cells": [
  {
   "cell_type": "code",
   "execution_count": 1,
   "metadata": {},
   "outputs": [],
   "source": [
    "library(rdydisstools)\n",
    "setwd('~/notebooks/dissertation')\n",
    "loadpackages(c('doParallel', 'foreach', 'logging', 'glue', 'grid', 'gridExtra', 'dplyr', 'ggplot2', 'DescTools', 'careless'))\n",
    "nDatasets <- 5000"
   ]
  },
  {
   "cell_type": "code",
   "execution_count": 2,
   "metadata": {},
   "outputs": [],
   "source": [
    "registerDoParallel(72)\n",
    "h1data <- foreach(i=1:nDatasets, .verbose=FALSE) %dopar% {\n",
    "    # Initialize logging\n",
    "    addHandler(writeToFile, file=glue::glue('~/notebooks/dissertation/logs/h1/sim{i}.log'), level='INFO')\n",
    "    logstring <- glue::glue('dis.h1.{i}')\n",
    "    \n",
    "    # Specify path for sample\n",
    "    datasetstring <- glue::glue(\"~/notebooks/dissertation/data/simsample{i}.RData\")\n",
    "    logging::loginfo(glue::glue('dataset loading from data/simsample{i}'), logger=logstring)\n",
    "    \n",
    "    #load sample dataset into memory\n",
    "    load(datasetstring)\n",
    "    logging::loginfo(glue::glue('dataframe has been loaded from: {datasetstring}'), logger=logstring)\n",
    "    \n",
    "    #Evaluate Hypothesis 1\n",
    "    t(dispatchHypothesisEval(df, hypothesis=\"h1\", lastColumn=100))\n",
    "} %>% do.call(\"rbind.data.frame\", .)\n",
    "\n",
    "save(h1data, file='~/notebooks/dissertation/artifacts/h1/h1data.RData')"
   ]
  },
  {
   "cell_type": "code",
   "execution_count": 3,
   "metadata": {},
   "outputs": [
    {
     "data": {
      "text/html": [
       "<ol class=list-inline>\n",
       "\t<li>5000</li>\n",
       "\t<li>10</li>\n",
       "</ol>\n"
      ],
      "text/latex": [
       "\\begin{enumerate*}\n",
       "\\item 5000\n",
       "\\item 10\n",
       "\\end{enumerate*}\n"
      ],
      "text/markdown": [
       "1. 5000\n",
       "2. 10\n",
       "\n",
       "\n"
      ],
      "text/plain": [
       "[1] 5000   10"
      ]
     },
     "metadata": {},
     "output_type": "display_data"
    }
   ],
   "source": [
    "dim(h1data)"
   ]
  },
  {
   "cell_type": "code",
   "execution_count": 9,
   "metadata": {},
   "outputs": [
    {
     "name": "stderr",
     "output_type": "stream",
     "text": [
      "Installing package into ‘/usr/lib64/R/library’\n",
      "(as ‘lib’ is unspecified)\n",
      "also installing the dependencies ‘manipulate’, ‘mvtnorm’, ‘expm’\n",
      "\n",
      "Updating HTML index of packages in '.Library'\n",
      "Making 'packages.html' ... done\n"
     ]
    }
   ],
   "source": [
    "install.packages('DescTools')"
   ]
  }
 ],
 "metadata": {
  "kernelspec": {
   "display_name": "R",
   "language": "R",
   "name": "ir"
  },
  "language_info": {
   "codemirror_mode": "r",
   "file_extension": ".r",
   "mimetype": "text/x-r-source",
   "name": "R",
   "pygments_lexer": "r",
   "version": "3.6.0"
  }
 },
 "nbformat": 4,
 "nbformat_minor": 2
}
