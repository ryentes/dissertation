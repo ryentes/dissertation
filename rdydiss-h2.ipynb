{
 "cells": [
  {
   "cell_type": "code",
   "execution_count": 10,
   "metadata": {},
   "outputs": [],
   "source": [
    "library(rdydisstools)\n",
    "setwd('~/notebooks/dissertation')\n",
    "loadpackages(c('doParallel', 'foreach', 'logging', 'glue', 'grid', 'gridExtra', 'dplyr', 'ggplot2', 'DescTools', 'careless'))\n",
    "nDatasets <- 5"
   ]
  },
  {
   "cell_type": "code",
   "execution_count": 14,
   "metadata": {},
   "outputs": [],
   "source": [
    "registerDoParallel(72)\n",
    "h1data <- foreach(i=1:nDatasets, .verbose=FALSE) %dopar% {\n",
    "    # Initialize logging\n",
    "    addHandler(writeToFile, file=glue::glue('~/notebooks/dissertation/logs/h1/sim{i}.log'), level='INFO')\n",
    "    logstring <- glue::glue('dis.h1.{i}')\n",
    "    \n",
    "    # Specify path for sample\n",
    "    datasetstring <- glue::glue(\"~/notebooks/dissertation/data/simsample{i}.RData\")\n",
    "    logging::loginfo(glue::glue('dataset loading from data/simsample{i}'), logger=logstring)\n",
    "    \n",
    "    #load sample dataset into memory\n",
    "    load(datasetstring)\n",
    "    logging::loginfo(glue::glue('dataframe has been loaded from: {datasetstring}'), logger=logstring)\n",
    "    \n",
    "    #Evaluate Hypothesis 1\n",
    "    t(dispatchHypothesisEval(df, hypothesis=\"h1\", lastColumn=100))\n",
    "} %>% do.call(\"rbind.data.frame\", .)\n",
    "\n",
    "save(h1data, file='~/notebooks/dissertation/artifacts/h1/h1data.RData')"
   ]
  },
  {
   "cell_type": "code",
   "execution_count": 15,
   "metadata": {},
   "outputs": [
    {
     "data": {
      "text/html": [
       "<table>\n",
       "<caption>A data.frame: 5 × 10</caption>\n",
       "<thead>\n",
       "\t<tr><th scope=col>hc_b</th><th scope=col>hc_lower</th><th scope=col>hc_upper</th><th scope=col>ht_b</th><th scope=col>ht_lower</th><th scope=col>ht_upper</th><th scope=col>hypTest</th><th scope=col>moreInf</th><th scope=col>hasOverlap</th><th scope=col>overlap</th></tr>\n",
       "\t<tr><th scope=col>&lt;dbl&gt;</th><th scope=col>&lt;dbl&gt;</th><th scope=col>&lt;dbl&gt;</th><th scope=col>&lt;dbl&gt;</th><th scope=col>&lt;dbl&gt;</th><th scope=col>&lt;dbl&gt;</th><th scope=col>&lt;dbl&gt;</th><th scope=col>&lt;dbl&gt;</th><th scope=col>&lt;dbl&gt;</th><th scope=col>&lt;dbl&gt;</th></tr>\n",
       "</thead>\n",
       "<tbody>\n",
       "\t<tr><td>0.09645013</td><td>0.01717263</td><td>0.1757276</td><td>0.1844889</td><td>0.1118356</td><td>0.2571422</td><td>0</td><td>1</td><td>1</td><td>0.06389201</td></tr>\n",
       "\t<tr><td>0.17824968</td><td>0.10614927</td><td>0.2503501</td><td>0.2954545</td><td>0.2326222</td><td>0.3582869</td><td>0</td><td>1</td><td>1</td><td>0.01772792</td></tr>\n",
       "\t<tr><td>0.28842105</td><td>0.22598709</td><td>0.3508550</td><td>0.4089417</td><td>0.3562303</td><td>0.4616531</td><td>1</td><td>1</td><td>0</td><td>0.00000000</td></tr>\n",
       "\t<tr><td>0.23199023</td><td>0.16460503</td><td>0.2993754</td><td>0.2809009</td><td>0.2169688</td><td>0.3448330</td><td>0</td><td>1</td><td>1</td><td>0.08240660</td></tr>\n",
       "\t<tr><td>0.38832565</td><td>0.33465732</td><td>0.4419940</td><td>0.4094455</td><td>0.3571031</td><td>0.4617879</td><td>0</td><td>1</td><td>1</td><td>0.08489089</td></tr>\n",
       "</tbody>\n",
       "</table>\n"
      ],
      "text/latex": [
       "A data.frame: 5 × 10\n",
       "\\begin{tabular}{r|llllllllll}\n",
       " hc\\_b & hc\\_lower & hc\\_upper & ht\\_b & ht\\_lower & ht\\_upper & hypTest & moreInf & hasOverlap & overlap\\\\\n",
       " <dbl> & <dbl> & <dbl> & <dbl> & <dbl> & <dbl> & <dbl> & <dbl> & <dbl> & <dbl>\\\\\n",
       "\\hline\n",
       "\t 0.09645013 & 0.01717263 & 0.1757276 & 0.1844889 & 0.1118356 & 0.2571422 & 0 & 1 & 1 & 0.06389201\\\\\n",
       "\t 0.17824968 & 0.10614927 & 0.2503501 & 0.2954545 & 0.2326222 & 0.3582869 & 0 & 1 & 1 & 0.01772792\\\\\n",
       "\t 0.28842105 & 0.22598709 & 0.3508550 & 0.4089417 & 0.3562303 & 0.4616531 & 1 & 1 & 0 & 0.00000000\\\\\n",
       "\t 0.23199023 & 0.16460503 & 0.2993754 & 0.2809009 & 0.2169688 & 0.3448330 & 0 & 1 & 1 & 0.08240660\\\\\n",
       "\t 0.38832565 & 0.33465732 & 0.4419940 & 0.4094455 & 0.3571031 & 0.4617879 & 0 & 1 & 1 & 0.08489089\\\\\n",
       "\\end{tabular}\n"
      ],
      "text/markdown": [
       "\n",
       "A data.frame: 5 × 10\n",
       "\n",
       "| hc_b &lt;dbl&gt; | hc_lower &lt;dbl&gt; | hc_upper &lt;dbl&gt; | ht_b &lt;dbl&gt; | ht_lower &lt;dbl&gt; | ht_upper &lt;dbl&gt; | hypTest &lt;dbl&gt; | moreInf &lt;dbl&gt; | hasOverlap &lt;dbl&gt; | overlap &lt;dbl&gt; |\n",
       "|---|---|---|---|---|---|---|---|---|---|\n",
       "| 0.09645013 | 0.01717263 | 0.1757276 | 0.1844889 | 0.1118356 | 0.2571422 | 0 | 1 | 1 | 0.06389201 |\n",
       "| 0.17824968 | 0.10614927 | 0.2503501 | 0.2954545 | 0.2326222 | 0.3582869 | 0 | 1 | 1 | 0.01772792 |\n",
       "| 0.28842105 | 0.22598709 | 0.3508550 | 0.4089417 | 0.3562303 | 0.4616531 | 1 | 1 | 0 | 0.00000000 |\n",
       "| 0.23199023 | 0.16460503 | 0.2993754 | 0.2809009 | 0.2169688 | 0.3448330 | 0 | 1 | 1 | 0.08240660 |\n",
       "| 0.38832565 | 0.33465732 | 0.4419940 | 0.4094455 | 0.3571031 | 0.4617879 | 0 | 1 | 1 | 0.08489089 |\n",
       "\n"
      ],
      "text/plain": [
       "  hc_b       hc_lower   hc_upper  ht_b      ht_lower  ht_upper  hypTest moreInf\n",
       "1 0.09645013 0.01717263 0.1757276 0.1844889 0.1118356 0.2571422 0       1      \n",
       "2 0.17824968 0.10614927 0.2503501 0.2954545 0.2326222 0.3582869 0       1      \n",
       "3 0.28842105 0.22598709 0.3508550 0.4089417 0.3562303 0.4616531 1       1      \n",
       "4 0.23199023 0.16460503 0.2993754 0.2809009 0.2169688 0.3448330 0       1      \n",
       "5 0.38832565 0.33465732 0.4419940 0.4094455 0.3571031 0.4617879 0       1      \n",
       "  hasOverlap overlap   \n",
       "1 1          0.06389201\n",
       "2 1          0.01772792\n",
       "3 0          0.00000000\n",
       "4 1          0.08240660\n",
       "5 1          0.08489089"
      ]
     },
     "metadata": {},
     "output_type": "display_data"
    }
   ],
   "source": [
    "head(h1data)"
   ]
  }
 ],
 "metadata": {
  "kernelspec": {
   "display_name": "R",
   "language": "R",
   "name": "ir"
  },
  "language_info": {
   "codemirror_mode": "r",
   "file_extension": ".r",
   "mimetype": "text/x-r-source",
   "name": "R",
   "pygments_lexer": "r",
   "version": "3.6.0"
  }
 },
 "nbformat": 4,
 "nbformat_minor": 2
}
