{
 "cells": [
  {
   "cell_type": "code",
   "execution_count": 1,
   "metadata": {},
   "outputs": [],
   "source": [
    "library(rdydisstools)\n",
    "setwd('~/notebooks/dissertation')\n",
    "loadpackages(c('doParallel', 'foreach', 'logging', 'glue', 'grid', 'gridExtra', 'dplyr', 'ggplot2', 'DescTools', 'careless', 'lsr'))\n",
    "nDatasets <- 5000"
   ]
  },
  {
   "cell_type": "code",
   "execution_count": 2,
   "metadata": {},
   "outputs": [],
   "source": [
    "registerDoParallel(72)\n",
    "h2data <- foreach(i=1:nDatasets, .verbose=FALSE) %dopar% {\n",
    "    # Initialize logging\n",
    "    addHandler(writeToFile, file=glue::glue('~/notebooks/dissertation/logs/h2/sim{i}-2.log'), level='INFO')\n",
    "    logstring <- glue::glue('dis.h2.{i}-2')\n",
    "    \n",
    "    # Specify path for sample\n",
    "    datasetstring <- glue::glue(\"~/notebooks/dissertation/data/simsample{i}.RData\")\n",
    "    logging::loginfo(glue::glue('dataset loading from data/simsample{i}'), logger=logstring)\n",
    "    \n",
    "    #load sample dataset into memory\n",
    "    load(datasetstring)\n",
    "    logging::loginfo(glue::glue('dataframe has been loaded from: {datasetstring}-2'), logger=logstring)\n",
    "    \n",
    "    #Evaluate Hypothesis 1\n",
    "    t(dispatchHypothesisEval(df, hypothesis=\"h2\", lastColumn=100))\n",
    "} %>% do.call(\"rbind.data.frame\", .)\n",
    "\n",
    "save(h2data, file='~/notebooks/dissertation/artifacts/h2/h2data.RData')"
   ]
  },
  {
   "cell_type": "code",
   "execution_count": 4,
   "metadata": {},
   "outputs": [],
   "source": [
    "load(\"~/notebooks/dissertation/artifacts/h2/h2data.RData\")"
   ]
  },
  {
   "cell_type": "code",
   "execution_count": 5,
   "metadata": {},
   "outputs": [
    {
     "data": {
      "text/html": [
       "<table>\n",
       "<caption>A data.frame: 1 × 5</caption>\n",
       "<thead>\n",
       "\t<tr><th scope=col>npassed</th><th scope=col>nAntiPassed</th><th scope=col>passed</th><th scope=col>xbar_ht</th><th scope=col>xbar_hc</th></tr>\n",
       "\t<tr><th scope=col>&lt;dbl&gt;</th><th scope=col>&lt;dbl&gt;</th><th scope=col>&lt;dbl&gt;</th><th scope=col>&lt;dbl&gt;</th><th scope=col>&lt;dbl&gt;</th></tr>\n",
       "</thead>\n",
       "<tbody>\n",
       "\t<tr><td>294</td><td>3</td><td>0.0588</td><td>0.1415291</td><td>0.08444369</td></tr>\n",
       "</tbody>\n",
       "</table>\n"
      ],
      "text/latex": [
       "A data.frame: 1 × 5\n",
       "\\begin{tabular}{r|lllll}\n",
       " npassed & nAntiPassed & passed & xbar\\_ht & xbar\\_hc\\\\\n",
       " <dbl> & <dbl> & <dbl> & <dbl> & <dbl>\\\\\n",
       "\\hline\n",
       "\t 294 & 3 & 0.0588 & 0.1415291 & 0.08444369\\\\\n",
       "\\end{tabular}\n"
      ],
      "text/markdown": [
       "\n",
       "A data.frame: 1 × 5\n",
       "\n",
       "| npassed &lt;dbl&gt; | nAntiPassed &lt;dbl&gt; | passed &lt;dbl&gt; | xbar_ht &lt;dbl&gt; | xbar_hc &lt;dbl&gt; |\n",
       "|---|---|---|---|---|\n",
       "| 294 | 3 | 0.0588 | 0.1415291 | 0.08444369 |\n",
       "\n"
      ],
      "text/plain": [
       "  npassed nAntiPassed passed xbar_ht   xbar_hc   \n",
       "1 294     3           0.0588 0.1415291 0.08444369"
      ]
     },
     "metadata": {},
     "output_type": "display_data"
    }
   ],
   "source": [
    "h2data %>% mutate(antiPass=case_when((ht_b < hc_b) & !(hasOverlap) ~ 1,\n",
    "                                      TRUE ~ 0)) %>% \n",
    "           summarize(npassed=sum(hypTest), nAntiPassed=sum(antiPass), passed = (sum(hypTest)/5000), xbar_ht=mean(ht_b), xbar_hc=mean(hc_b))"
   ]
  },
  {
   "cell_type": "code",
   "execution_count": 6,
   "metadata": {},
   "outputs": [
    {
     "data": {
      "text/plain": [
       "\n",
       "\tPaired t-test\n",
       "\n",
       "data:  h2data$ht_b and h2data$hc_b\n",
       "t = 70.196, df = 4999, p-value < 2.2e-16\n",
       "alternative hypothesis: true difference in means is greater than 0\n",
       "95 percent confidence interval:\n",
       " 0.05574748        Inf\n",
       "sample estimates:\n",
       "mean of the differences \n",
       "             0.05708537 \n"
      ]
     },
     "metadata": {},
     "output_type": "display_data"
    },
    {
     "data": {
      "text/html": [
       "0.992718693926229"
      ],
      "text/latex": [
       "0.992718693926229"
      ],
      "text/markdown": [
       "0.992718693926229"
      ],
      "text/plain": [
       "[1] 0.9927187"
      ]
     },
     "metadata": {},
     "output_type": "display_data"
    },
    {
     "data": {
      "text/plain": [
       "\n",
       "\tWilcoxon rank sum test with continuity correction\n",
       "\n",
       "data:  h2data$ht_b and h2data$hc_b\n",
       "W = 16772833, p-value < 2.2e-16\n",
       "alternative hypothesis: true location shift is greater than 0\n"
      ]
     },
     "metadata": {},
     "output_type": "display_data"
    }
   ],
   "source": [
    "t.test(h2data$ht_b, h2data$hc_b, paired=TRUE, alternative=\"greater\")\n",
    "cohensD(h2data$ht_b, h2data$hc_b, method='paired')\n",
    "wilcox.test(h2data$ht_b, h2data$hc_b, alternative=\"greater\")"
   ]
  },
  {
   "cell_type": "code",
   "execution_count": null,
   "metadata": {},
   "outputs": [],
   "source": []
  }
 ],
 "metadata": {
  "kernelspec": {
   "display_name": "R",
   "language": "R",
   "name": "ir"
  },
  "language_info": {
   "codemirror_mode": "r",
   "file_extension": ".r",
   "mimetype": "text/x-r-source",
   "name": "R",
   "pygments_lexer": "r",
   "version": "3.6.0"
  }
 },
 "nbformat": 4,
 "nbformat_minor": 2
}
