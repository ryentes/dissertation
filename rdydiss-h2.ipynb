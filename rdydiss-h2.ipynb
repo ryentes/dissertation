{
 "cells": [
  {
   "cell_type": "code",
   "execution_count": 1,
   "metadata": {},
   "outputs": [],
   "source": [
    "library(rdydisstools)\n",
    "setwd('~/notebooks/dissertation')\n",
    "loadpackages(c('doParallel', 'foreach', 'logging', 'glue', 'grid', 'gridExtra', 'dplyr', 'ggplot2', 'DescTools', 'careless'))\n",
    "nDatasets <- 5000"
   ]
  },
  {
   "cell_type": "code",
   "execution_count": 2,
   "metadata": {},
   "outputs": [],
   "source": [
    "registerDoParallel(72)\n",
    "h2data <- foreach(i=1:nDatasets, .verbose=FALSE) %dopar% {\n",
    "    # Initialize logging\n",
    "    addHandler(writeToFile, file=glue::glue('~/notebooks/dissertation/logs/h2/sim{i}.log'), level='INFO')\n",
    "    logstring <- glue::glue('dis.h2.{i}')\n",
    "    \n",
    "    # Specify path for sample\n",
    "    datasetstring <- glue::glue(\"~/notebooks/dissertation/data/simsample{i}.RData\")\n",
    "    logging::loginfo(glue::glue('dataset loading from data/simsample{i}'), logger=logstring)\n",
    "    \n",
    "    #load sample dataset into memory\n",
    "    load(datasetstring)\n",
    "    logging::loginfo(glue::glue('dataframe has been loaded from: {datasetstring}'), logger=logstring)\n",
    "    \n",
    "    #Evaluate Hypothesis 1\n",
    "    t(dispatchHypothesisEval(df, hypothesis=\"h2\", lastColumn=100))\n",
    "} %>% do.call(\"rbind.data.frame\", .)\n",
    "\n",
    "save(h2data, file='~/notebooks/dissertation/artifacts/h2/h2data.RData')"
   ]
  },
  {
   "cell_type": "code",
   "execution_count": 3,
   "metadata": {},
   "outputs": [
    {
     "data": {
      "text/html": [
       "<table>\n",
       "<caption>A data.frame: 6 × 10</caption>\n",
       "<thead>\n",
       "\t<tr><th scope=col>hc_b</th><th scope=col>hc_lower</th><th scope=col>hc_upper</th><th scope=col>ht_b</th><th scope=col>ht_lower</th><th scope=col>ht_upper</th><th scope=col>hypTest</th><th scope=col>moreInf</th><th scope=col>hasOverlap</th><th scope=col>overlap</th></tr>\n",
       "\t<tr><th scope=col>&lt;dbl&gt;</th><th scope=col>&lt;dbl&gt;</th><th scope=col>&lt;dbl&gt;</th><th scope=col>&lt;dbl&gt;</th><th scope=col>&lt;dbl&gt;</th><th scope=col>&lt;dbl&gt;</th><th scope=col>&lt;dbl&gt;</th><th scope=col>&lt;dbl&gt;</th><th scope=col>&lt;dbl&gt;</th><th scope=col>&lt;dbl&gt;</th></tr>\n",
       "</thead>\n",
       "<tbody>\n",
       "\t<tr><td>-0.05432443</td><td>-0.1468308923</td><td>0.03818204</td><td>-0.04995976</td><td>-0.1434999</td><td> 0.04358039</td><td>0</td><td>1</td><td>1</td><td>0.1816819</td></tr>\n",
       "\t<tr><td> 0.08011583</td><td>-0.0005948419</td><td>0.16082650</td><td>-0.03181818</td><td>-0.1238372</td><td> 0.06020086</td><td>0</td><td>0</td><td>1</td><td>0.0607957</td></tr>\n",
       "\t<tr><td>-0.06947368</td><td>-0.1633093459</td><td>0.02436198</td><td>-0.12948500</td><td>-0.2302141</td><td>-0.02875589</td><td>0</td><td>0</td><td>1</td><td>0.1345535</td></tr>\n",
       "\t<tr><td>-0.03809524</td><td>-0.1291777537</td><td>0.05298728</td><td>-0.08462462</td><td>-0.1810540</td><td> 0.01180476</td><td>0</td><td>0</td><td>1</td><td>0.1409825</td></tr>\n",
       "\t<tr><td>-0.05560676</td><td>-0.1482257360</td><td>0.03701222</td><td>-0.05467707</td><td>-0.1481559</td><td> 0.03880174</td><td>0</td><td>1</td><td>1</td><td>0.1851681</td></tr>\n",
       "\t<tr><td>-0.04985015</td><td>-0.1419640465</td><td>0.04226374</td><td>-0.02549138</td><td>-0.1169462</td><td> 0.06596342</td><td>0</td><td>1</td><td>1</td><td>0.1592099</td></tr>\n",
       "</tbody>\n",
       "</table>\n"
      ],
      "text/latex": [
       "A data.frame: 6 × 10\n",
       "\\begin{tabular}{r|llllllllll}\n",
       " hc\\_b & hc\\_lower & hc\\_upper & ht\\_b & ht\\_lower & ht\\_upper & hypTest & moreInf & hasOverlap & overlap\\\\\n",
       " <dbl> & <dbl> & <dbl> & <dbl> & <dbl> & <dbl> & <dbl> & <dbl> & <dbl> & <dbl>\\\\\n",
       "\\hline\n",
       "\t -0.05432443 & -0.1468308923 & 0.03818204 & -0.04995976 & -0.1434999 &  0.04358039 & 0 & 1 & 1 & 0.1816819\\\\\n",
       "\t  0.08011583 & -0.0005948419 & 0.16082650 & -0.03181818 & -0.1238372 &  0.06020086 & 0 & 0 & 1 & 0.0607957\\\\\n",
       "\t -0.06947368 & -0.1633093459 & 0.02436198 & -0.12948500 & -0.2302141 & -0.02875589 & 0 & 0 & 1 & 0.1345535\\\\\n",
       "\t -0.03809524 & -0.1291777537 & 0.05298728 & -0.08462462 & -0.1810540 &  0.01180476 & 0 & 0 & 1 & 0.1409825\\\\\n",
       "\t -0.05560676 & -0.1482257360 & 0.03701222 & -0.05467707 & -0.1481559 &  0.03880174 & 0 & 1 & 1 & 0.1851681\\\\\n",
       "\t -0.04985015 & -0.1419640465 & 0.04226374 & -0.02549138 & -0.1169462 &  0.06596342 & 0 & 1 & 1 & 0.1592099\\\\\n",
       "\\end{tabular}\n"
      ],
      "text/markdown": [
       "\n",
       "A data.frame: 6 × 10\n",
       "\n",
       "| hc_b &lt;dbl&gt; | hc_lower &lt;dbl&gt; | hc_upper &lt;dbl&gt; | ht_b &lt;dbl&gt; | ht_lower &lt;dbl&gt; | ht_upper &lt;dbl&gt; | hypTest &lt;dbl&gt; | moreInf &lt;dbl&gt; | hasOverlap &lt;dbl&gt; | overlap &lt;dbl&gt; |\n",
       "|---|---|---|---|---|---|---|---|---|---|\n",
       "| -0.05432443 | -0.1468308923 | 0.03818204 | -0.04995976 | -0.1434999 |  0.04358039 | 0 | 1 | 1 | 0.1816819 |\n",
       "|  0.08011583 | -0.0005948419 | 0.16082650 | -0.03181818 | -0.1238372 |  0.06020086 | 0 | 0 | 1 | 0.0607957 |\n",
       "| -0.06947368 | -0.1633093459 | 0.02436198 | -0.12948500 | -0.2302141 | -0.02875589 | 0 | 0 | 1 | 0.1345535 |\n",
       "| -0.03809524 | -0.1291777537 | 0.05298728 | -0.08462462 | -0.1810540 |  0.01180476 | 0 | 0 | 1 | 0.1409825 |\n",
       "| -0.05560676 | -0.1482257360 | 0.03701222 | -0.05467707 | -0.1481559 |  0.03880174 | 0 | 1 | 1 | 0.1851681 |\n",
       "| -0.04985015 | -0.1419640465 | 0.04226374 | -0.02549138 | -0.1169462 |  0.06596342 | 0 | 1 | 1 | 0.1592099 |\n",
       "\n"
      ],
      "text/plain": [
       "  hc_b        hc_lower      hc_upper   ht_b        ht_lower   ht_upper   \n",
       "1 -0.05432443 -0.1468308923 0.03818204 -0.04995976 -0.1434999  0.04358039\n",
       "2  0.08011583 -0.0005948419 0.16082650 -0.03181818 -0.1238372  0.06020086\n",
       "3 -0.06947368 -0.1633093459 0.02436198 -0.12948500 -0.2302141 -0.02875589\n",
       "4 -0.03809524 -0.1291777537 0.05298728 -0.08462462 -0.1810540  0.01180476\n",
       "5 -0.05560676 -0.1482257360 0.03701222 -0.05467707 -0.1481559  0.03880174\n",
       "6 -0.04985015 -0.1419640465 0.04226374 -0.02549138 -0.1169462  0.06596342\n",
       "  hypTest moreInf hasOverlap overlap  \n",
       "1 0       1       1          0.1816819\n",
       "2 0       0       1          0.0607957\n",
       "3 0       0       1          0.1345535\n",
       "4 0       0       1          0.1409825\n",
       "5 0       1       1          0.1851681\n",
       "6 0       1       1          0.1592099"
      ]
     },
     "metadata": {},
     "output_type": "display_data"
    }
   ],
   "source": [
    "head(h2data)"
   ]
  },
  {
   "cell_type": "code",
   "execution_count": null,
   "metadata": {},
   "outputs": [],
   "source": []
  }
 ],
 "metadata": {
  "kernelspec": {
   "display_name": "R",
   "language": "R",
   "name": "ir"
  },
  "language_info": {
   "codemirror_mode": "r",
   "file_extension": ".r",
   "mimetype": "text/x-r-source",
   "name": "R",
   "pygments_lexer": "r",
   "version": "3.6.0"
  }
 },
 "nbformat": 4,
 "nbformat_minor": 2
}
