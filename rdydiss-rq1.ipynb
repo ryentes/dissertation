{
 "cells": [
  {
   "cell_type": "raw",
   "metadata": {},
   "source": [
    "<script>\n",
    "  function code_toggle() {\n",
    "    if (code_shown){\n",
    "      $('div.input').hide('500');\n",
    "      $('#toggleButton').val('Show Code')\n",
    "    } else {\n",
    "      $('div.input').show('500');\n",
    "      $('#toggleButton').val('Hide Code')\n",
    "    }\n",
    "    code_shown = !code_shown\n",
    "  }\n",
    " \n",
    "  $( document ).ready(function(){\n",
    "    code_shown=false;\n",
    "    $('div.input').hide()\n",
    "  });\n",
    "</script>\n",
    "<form action=\"javascript:code_toggle()\"><input type=\"submit\" id=\"toggleButton\" value=\"Show Code\"></form>"
   ]
  },
  {
   "cell_type": "code",
   "execution_count": 16,
   "metadata": {},
   "outputs": [],
   "source": [
    "library(rdydisstools)\n",
    "loadpackages(c('doParallel', 'foreach', 'logging', 'glue', 'grid', 'gridExtra'))\n",
    "nDatasets <- 5"
   ]
  },
  {
   "cell_type": "code",
   "execution_count": null,
   "metadata": {},
   "outputs": [],
   "source": [
    "registerDoParallel(24)\n",
    "\n",
    "foreach(i=1:nDatasets, .verbose=TRUE) %dopar% {\n",
    "\n",
    "    datasetstring <- glue::glue(\"data/simsample{i}.RData\")\n",
    "\n",
    "    load(datasetstring)\n",
    "    hexkey <- read.csv('sourcedata/hexkey.csv', header=FALSE)[1:100]\n",
    "    hexkey <- which(hexkey==-1)\n",
    "    rcdf <- rdydisstools::reverseCode(df[,1:100], hexkey, max=7)\n",
    "    rcdf <- cbind(rcdf, df[101:102])\n",
    "    \n",
    "    ls <- dispatchRQ1(df, what='longstring', from=-3, to=3, by=.1, i=i)\n",
    "    eo <- dispatchRQ1(rcdf, what=\"evenodd\", factors=rep(10,10), from=-3, to=3, by=.1, i=i)\n",
    "    md <- dispatchRQ1(rcdf, what=\"mahad\", from=-3, to=3, by=.1, i=i)\n",
    "\n",
    "    lsJPlot <- plot(ls$informedness, i)\n",
    "    lsCRMetricPlot <- plot(ls$metric, 'longstring', i)\n",
    "    eoJPlot <- plot(eo$informedness, i)\n",
    "    eoCRMetricPlot <- plot(eo$metric, 'evenodd', i)\n",
    "    mdJPlot <- plot(md$informedness, i)\n",
    "    mdCRMetricPlot <- plot(md$metric, \"Mahalanobis\", i)\n",
    "    \n",
    "    \n",
    "    list(lsJPlot, lsCRMetricPlot, eoJPlot, eoCRMetricPlot, mdJPlot, mdCRMetricPlot)\n",
    "}"
   ]
  },
  {
   "cell_type": "code",
   "execution_count": 29,
   "metadata": {},
   "outputs": [
    {
     "data": {
      "text/html": [
       "<pre class=language-r><code>function (metric, truth, from, to, by) \n",
       "{\n",
       "<span style=white-space:pre-wrap>    xbar &lt;- mean(metric)</span>\n",
       "<span style=white-space:pre-wrap>    SD &lt;- sd(metric)</span>\n",
       "<span style=white-space:pre-wrap>    range &lt;- seq(from = from, to = to, by = by)</span>\n",
       "<span style=white-space:pre-wrap>    rangeLength &lt;- length(range)</span>\n",
       "<span style=white-space:pre-wrap>    predictions &lt;- matrix(nrow = nrow(df), ncol = rangeLength)</span>\n",
       "<span style=white-space:pre-wrap>    for (i in 1:rangeLength) {</span>\n",
       "<span style=white-space:pre-wrap>        cut &lt;- xbar + (range[i] * SD)</span>\n",
       "<span style=white-space:pre-wrap>        predictions[, i] &lt;- as.numeric(metric &gt; cut)</span>\n",
       "<span style=white-space:pre-wrap>    }</span>\n",
       "<span style=white-space:pre-wrap>    colnames(predictions) &lt;- range</span>\n",
       "<span style=white-space:pre-wrap>    resultMatrices &lt;- vector(\"list\", ncol(predictions))</span>\n",
       "<span style=white-space:pre-wrap>    for (i in 1:ncol(predictions)) {</span>\n",
       "<span style=white-space:pre-wrap>        resultMatrices[[i]] &lt;- confusionMatrix(predictions[, </span>\n",
       "<span style=white-space:pre-wrap>            i], truth)</span>\n",
       "<span style=white-space:pre-wrap>    }</span>\n",
       "<span style=white-space:pre-wrap>    return(list(results = resultMatrices, range = range, metric = metric))</span>\n",
       "}</code></pre>"
      ],
      "text/latex": [
       "\\begin{minted}{r}\n",
       "function (metric, truth, from, to, by) \n",
       "\\{\n",
       "    xbar <- mean(metric)\n",
       "    SD <- sd(metric)\n",
       "    range <- seq(from = from, to = to, by = by)\n",
       "    rangeLength <- length(range)\n",
       "    predictions <- matrix(nrow = nrow(df), ncol = rangeLength)\n",
       "    for (i in 1:rangeLength) \\{\n",
       "        cut <- xbar + (range{[}i{]} * SD)\n",
       "        predictions{[}, i{]} <- as.numeric(metric > cut)\n",
       "    \\}\n",
       "    colnames(predictions) <- range\n",
       "    resultMatrices <- vector(\"list\", ncol(predictions))\n",
       "    for (i in 1:ncol(predictions)) \\{\n",
       "        resultMatrices{[}{[}i{]}{]} <- confusionMatrix(predictions{[}, \n",
       "            i{]}, truth)\n",
       "    \\}\n",
       "    return(list(results = resultMatrices, range = range, metric = metric))\n",
       "\\}\n",
       "\\end{minted}"
      ],
      "text/markdown": [
       "```r\n",
       "function (metric, truth, from, to, by) \n",
       "{\n",
       "    xbar <- mean(metric)\n",
       "    SD <- sd(metric)\n",
       "    range <- seq(from = from, to = to, by = by)\n",
       "    rangeLength <- length(range)\n",
       "    predictions <- matrix(nrow = nrow(df), ncol = rangeLength)\n",
       "    for (i in 1:rangeLength) {\n",
       "        cut <- xbar + (range[i] * SD)\n",
       "        predictions[, i] <- as.numeric(metric > cut)\n",
       "    }\n",
       "    colnames(predictions) <- range\n",
       "    resultMatrices <- vector(\"list\", ncol(predictions))\n",
       "    for (i in 1:ncol(predictions)) {\n",
       "        resultMatrices[[i]] <- confusionMatrix(predictions[, \n",
       "            i], truth)\n",
       "    }\n",
       "    return(list(results = resultMatrices, range = range, metric = metric))\n",
       "}\n",
       "```"
      ],
      "text/plain": [
       "function (metric, truth, from, to, by) \n",
       "{\n",
       "    xbar <- mean(metric)\n",
       "    SD <- sd(metric)\n",
       "    range <- seq(from = from, to = to, by = by)\n",
       "    rangeLength <- length(range)\n",
       "    predictions <- matrix(nrow = nrow(df), ncol = rangeLength)\n",
       "    for (i in 1:rangeLength) {\n",
       "        cut <- xbar + (range[i] * SD)\n",
       "        predictions[, i] <- as.numeric(metric > cut)\n",
       "    }\n",
       "    colnames(predictions) <- range\n",
       "    resultMatrices <- vector(\"list\", ncol(predictions))\n",
       "    for (i in 1:ncol(predictions)) {\n",
       "        resultMatrices[[i]] <- confusionMatrix(predictions[, \n",
       "            i], truth)\n",
       "    }\n",
       "    return(list(results = resultMatrices, range = range, metric = metric))\n",
       "}\n",
       "<bytecode: 0x1473fe0>\n",
       "<environment: namespace:rdydisstools>"
      ]
     },
     "metadata": {},
     "output_type": "display_data"
    }
   ],
   "source": [
    "sdRocer"
   ]
  },
  {
   "cell_type": "code",
   "execution_count": 44,
   "metadata": {},
   "outputs": [
    {
     "data": {
      "text/html": [
       "'factor'"
      ],
      "text/latex": [
       "'factor'"
      ],
      "text/markdown": [
       "'factor'"
      ],
      "text/plain": [
       "[1] \"factor\""
      ]
     },
     "metadata": {},
     "output_type": "display_data"
    }
   ],
   "source": [
    "class(df$crModel)"
   ]
  },
  {
   "cell_type": "code",
   "execution_count": 45,
   "metadata": {},
   "outputs": [
    {
     "data": {
      "text/html": [
       "'numeric'"
      ],
      "text/latex": [
       "'numeric'"
      ],
      "text/markdown": [
       "'numeric'"
      ],
      "text/plain": [
       "[1] \"numeric\""
      ]
     },
     "metadata": {},
     "output_type": "display_data"
    }
   ],
   "source": [
    "class(metricData$crModel)"
   ]
  },
  {
   "cell_type": "code",
   "execution_count": 70,
   "metadata": {},
   "outputs": [
    {
     "data": {
      "text/html": [
       "<ol class=list-inline>\n",
       "\t<li>'informedness'</li>\n",
       "\t<li>'data.frame'</li>\n",
       "</ol>\n"
      ],
      "text/latex": [
       "\\begin{enumerate*}\n",
       "\\item 'informedness'\n",
       "\\item 'data.frame'\n",
       "\\end{enumerate*}\n"
      ],
      "text/markdown": [
       "1. 'informedness'\n",
       "2. 'data.frame'\n",
       "\n",
       "\n"
      ],
      "text/plain": [
       "[1] \"informedness\" \"data.frame\"  "
      ]
     },
     "metadata": {},
     "output_type": "display_data"
    }
   ],
   "source": [
    "test <- informednessData\n",
    "attr(test, 'class') <- c('informedness', 'data.frame')\n",
    "class(test)"
   ]
  },
  {
   "cell_type": "code",
   "execution_count": 71,
   "metadata": {},
   "outputs": [],
   "source": [
    "plot.informedness <- function(x, i) {\n",
    "    ggplot(x, aes(x=range, y=informedness)) + \n",
    "    geom_line() + geom_point() + \n",
    "    ggtitle(glue::glue('Figure {i}.1: Informedness by cut score')) +\n",
    "    theme(legend.position=\"bottom\", text=element_text(family=\"Times New Roman\", size=12))\n",
    "}"
   ]
  },
  {
   "cell_type": "code",
   "execution_count": 72,
   "metadata": {},
   "outputs": [
    {
     "data": {},
     "metadata": {},
     "output_type": "display_data"
    },
    {
     "data": {
      "image/png": "[encoded data removed]",
      "text/plain": [
       "plot without title"
      ]
     },
     "metadata": {},
     "output_type": "display_data"
    }
   ],
   "source": [
    "plot(test, 3)"
   ]
  },
  {
   "cell_type": "code",
   "execution_count": 61,
   "metadata": {},
   "outputs": [
    {
     "data": {
      "text/plain": [
       " [1] plot,ANY-method        plot,color-method      plot.acf*             \n",
       " [4] plot.ACF*              plot.AUC*              plot.augPred*         \n",
       " [7] plot.compareFits*      plot.data.frame*       plot.decomposed.ts*   \n",
       "[10] plot.default           plot.dendrogram*       plot.density*         \n",
       "[13] plot.ecdf              plot.factor*           plot.formula*         \n",
       "[16] plot.function          plot.ggplot*           plot.gls*             \n",
       "[19] plot.gtable*           plot.hclust*           plot.histogram*       \n",
       "[22] plot.HoltWinters*      plot.informedness      plot.intervals.lmList*\n",
       "[25] plot.irt*              plot.isoreg*           plot.lm*              \n",
       "[28] plot.lme*              plot.lmList*           plot.medpolish*       \n",
       "[31] plot.mlm*              plot.nffGroupedData*   plot.nfnGroupedData*  \n",
       "[34] plot.nls*              plot.nmGroupedData*    plot.pdMat*           \n",
       "[37] plot.poly*             plot.poly.parallel*    plot.ppr*             \n",
       "[40] plot.prcomp*           plot.princomp*         plot.profile.nls*     \n",
       "[43] plot.psych*            plot.R6*               plot.ranef.lme*       \n",
       "[46] plot.ranef.lmList*     plot.raster*           plot.residuals*       \n",
       "[49] plot.shingle*          plot.simulate.lme*     plot.spec*            \n",
       "[52] plot.stepfun           plot.stl*              plot.table*           \n",
       "[55] plot.trellis*          plot.ts                plot.tskernel*        \n",
       "[58] plot.TukeyHSD*         plot.Variogram*       \n",
       "see '?methods' for accessing help and source code"
      ]
     },
     "metadata": {},
     "output_type": "display_data"
    }
   ],
   "source": [
    "methods('plot')"
   ]
  },
  {
   "cell_type": "code",
   "execution_count": 62,
   "metadata": {},
   "outputs": [
    {
     "data": {
      "text/html": [
       "<pre class=language-r><code>function (x, xval, xlim, ylim = range(c(y, Fn.kn)), xlab = \"x\", \n",
       "<span style=white-space:pre-wrap>    ylab = \"f(x)\", main = NULL, add = FALSE, verticals = TRUE, </span>\n",
       "<span style=white-space:pre-wrap>    do.points = (n &lt; 1000), pch = par(\"pch\"), col = par(\"col\"), </span>\n",
       "<span style=white-space:pre-wrap>    col.points = col, cex.points = par(\"cex\"), col.hor = col, </span>\n",
       "<span style=white-space:pre-wrap>    col.vert = col, lty = par(\"lty\"), lwd = par(\"lwd\"), ...) </span>\n",
       "{\n",
       "<span style=white-space:pre-wrap>    if (!is.stepfun(x)) {</span>\n",
       "<span style=white-space:pre-wrap>        if (is.numeric(x)) {</span>\n",
       "<span style=white-space:pre-wrap>            sarg &lt;- substitute(x)</span>\n",
       "<span style=white-space:pre-wrap>            x &lt;- ecdf(x)</span>\n",
       "<span style=white-space:pre-wrap>            attr(x, \"call\") &lt;- call(\"ecdf\", sarg)</span>\n",
       "<span style=white-space:pre-wrap>        }</span>\n",
       "<span style=white-space:pre-wrap>        else stop(\"'plot.stepfun' called with wrong type of argument 'x'\")</span>\n",
       "<span style=white-space:pre-wrap>    }</span>\n",
       "<span style=white-space:pre-wrap>    if (missing(main)) </span>\n",
       "<span style=white-space:pre-wrap>        main &lt;- {</span>\n",
       "<span style=white-space:pre-wrap>            cl &lt;- attr(x, \"call\")</span>\n",
       "<span style=white-space:pre-wrap>            deparse(if (!is.null(cl)) </span>\n",
       "<span style=white-space:pre-wrap>                cl</span>\n",
       "<span style=white-space:pre-wrap>            else sys.call())</span>\n",
       "<span style=white-space:pre-wrap>        }</span>\n",
       "<span style=white-space:pre-wrap>    knF &lt;- knots(x)</span>\n",
       "<span style=white-space:pre-wrap>    xval &lt;- if (missing(xval)) </span>\n",
       "<span style=white-space:pre-wrap>        knF</span>\n",
       "<span style=white-space:pre-wrap>    else sort(xval)</span>\n",
       "<span style=white-space:pre-wrap>    if (missing(xlim)) {</span>\n",
       "<span style=white-space:pre-wrap>        rx &lt;- range(xval)</span>\n",
       "<span style=white-space:pre-wrap>        dr &lt;- if (length(xval) &gt; 1L) </span>\n",
       "<span style=white-space:pre-wrap>            max(0.08 * diff(rx), median(diff(xval)))</span>\n",
       "<span style=white-space:pre-wrap>        else abs(xval)/16</span>\n",
       "<span style=white-space:pre-wrap>        xlim &lt;- rx + dr * c(-1, 1)</span>\n",
       "<span style=white-space:pre-wrap>    }</span>\n",
       "<span style=white-space:pre-wrap>    else dr &lt;- diff(xlim)</span>\n",
       "<span style=white-space:pre-wrap>    xval &lt;- xval[xlim[1L] - dr &lt;= xval &amp; xval &lt;= xlim[2L] + dr]</span>\n",
       "<span style=white-space:pre-wrap>    ti &lt;- c(xlim[1L] - dr, xval, xlim[2L] + dr)</span>\n",
       "<span style=white-space:pre-wrap>    ti.l &lt;- ti[-length(ti)]</span>\n",
       "<span style=white-space:pre-wrap>    ti.r &lt;- ti[-1L]</span>\n",
       "<span style=white-space:pre-wrap>    y &lt;- x(0.5 * (ti.l + ti.r))</span>\n",
       "<span style=white-space:pre-wrap>    n &lt;- length(y)</span>\n",
       "<span style=white-space:pre-wrap>    Fn.kn &lt;- x(xval)</span>\n",
       "<span style=white-space:pre-wrap>    dev.hold()</span>\n",
       "<span style=white-space:pre-wrap>    on.exit(dev.flush())</span>\n",
       "<span style=white-space:pre-wrap>    if (add) </span>\n",
       "<span style=white-space:pre-wrap>        segments(ti.l, y, ti.r, y, col = col.hor, lty = lty, </span>\n",
       "<span style=white-space:pre-wrap>            lwd = lwd, ...)</span>\n",
       "<span style=white-space:pre-wrap>    else {</span>\n",
       "<span style=white-space:pre-wrap>        if (missing(ylim)) </span>\n",
       "<span style=white-space:pre-wrap>            ylim &lt;- range(c(y, Fn.kn))</span>\n",
       "<span style=white-space:pre-wrap>        plot(NA, NA, type = \"n\", xlim = xlim, ylim = ylim, xlab = xlab, </span>\n",
       "<span style=white-space:pre-wrap>            ylab = ylab, main = main, ...)</span>\n",
       "<span style=white-space:pre-wrap>        segments(ti.l, y, ti.r, y, col = col.hor, lty = lty, </span>\n",
       "<span style=white-space:pre-wrap>            lwd = lwd)</span>\n",
       "<span style=white-space:pre-wrap>    }</span>\n",
       "<span style=white-space:pre-wrap>    if (do.points) </span>\n",
       "<span style=white-space:pre-wrap>        points(xval, Fn.kn, pch = pch, col = col.points, cex = cex.points)</span>\n",
       "<span style=white-space:pre-wrap>    if (verticals) </span>\n",
       "<span style=white-space:pre-wrap>        segments(xval, y[-n], xval, y[-1L], col = col.vert, lty = lty, </span>\n",
       "<span style=white-space:pre-wrap>            lwd = lwd)</span>\n",
       "<span style=white-space:pre-wrap>    invisible(list(t = ti, y = y))</span>\n",
       "}</code></pre>"
      ],
      "text/latex": [
       "\\begin{minted}{r}\n",
       "function (x, xval, xlim, ylim = range(c(y, Fn.kn)), xlab = \"x\", \n",
       "    ylab = \"f(x)\", main = NULL, add = FALSE, verticals = TRUE, \n",
       "    do.points = (n < 1000), pch = par(\"pch\"), col = par(\"col\"), \n",
       "    col.points = col, cex.points = par(\"cex\"), col.hor = col, \n",
       "    col.vert = col, lty = par(\"lty\"), lwd = par(\"lwd\"), ...) \n",
       "\\{\n",
       "    if (!is.stepfun(x)) \\{\n",
       "        if (is.numeric(x)) \\{\n",
       "            sarg <- substitute(x)\n",
       "            x <- ecdf(x)\n",
       "            attr(x, \"call\") <- call(\"ecdf\", sarg)\n",
       "        \\}\n",
       "        else stop(\"'plot.stepfun' called with wrong type of argument 'x'\")\n",
       "    \\}\n",
       "    if (missing(main)) \n",
       "        main <- \\{\n",
       "            cl <- attr(x, \"call\")\n",
       "            deparse(if (!is.null(cl)) \n",
       "                cl\n",
       "            else sys.call())\n",
       "        \\}\n",
       "    knF <- knots(x)\n",
       "    xval <- if (missing(xval)) \n",
       "        knF\n",
       "    else sort(xval)\n",
       "    if (missing(xlim)) \\{\n",
       "        rx <- range(xval)\n",
       "        dr <- if (length(xval) > 1L) \n",
       "            max(0.08 * diff(rx), median(diff(xval)))\n",
       "        else abs(xval)/16\n",
       "        xlim <- rx + dr * c(-1, 1)\n",
       "    \\}\n",
       "    else dr <- diff(xlim)\n",
       "    xval <- xval{[}xlim{[}1L{]} - dr <= xval \\& xval <= xlim{[}2L{]} + dr{]}\n",
       "    ti <- c(xlim{[}1L{]} - dr, xval, xlim{[}2L{]} + dr)\n",
       "    ti.l <- ti{[}-length(ti){]}\n",
       "    ti.r <- ti{[}-1L{]}\n",
       "    y <- x(0.5 * (ti.l + ti.r))\n",
       "    n <- length(y)\n",
       "    Fn.kn <- x(xval)\n",
       "    dev.hold()\n",
       "    on.exit(dev.flush())\n",
       "    if (add) \n",
       "        segments(ti.l, y, ti.r, y, col = col.hor, lty = lty, \n",
       "            lwd = lwd, ...)\n",
       "    else \\{\n",
       "        if (missing(ylim)) \n",
       "            ylim <- range(c(y, Fn.kn))\n",
       "        plot(NA, NA, type = \"n\", xlim = xlim, ylim = ylim, xlab = xlab, \n",
       "            ylab = ylab, main = main, ...)\n",
       "        segments(ti.l, y, ti.r, y, col = col.hor, lty = lty, \n",
       "            lwd = lwd)\n",
       "    \\}\n",
       "    if (do.points) \n",
       "        points(xval, Fn.kn, pch = pch, col = col.points, cex = cex.points)\n",
       "    if (verticals) \n",
       "        segments(xval, y{[}-n{]}, xval, y{[}-1L{]}, col = col.vert, lty = lty, \n",
       "            lwd = lwd)\n",
       "    invisible(list(t = ti, y = y))\n",
       "\\}\n",
       "\\end{minted}"
      ],
      "text/markdown": [
       "```r\n",
       "function (x, xval, xlim, ylim = range(c(y, Fn.kn)), xlab = \"x\", \n",
       "    ylab = \"f(x)\", main = NULL, add = FALSE, verticals = TRUE, \n",
       "    do.points = (n < 1000), pch = par(\"pch\"), col = par(\"col\"), \n",
       "    col.points = col, cex.points = par(\"cex\"), col.hor = col, \n",
       "    col.vert = col, lty = par(\"lty\"), lwd = par(\"lwd\"), ...) \n",
       "{\n",
       "    if (!is.stepfun(x)) {\n",
       "        if (is.numeric(x)) {\n",
       "            sarg <- substitute(x)\n",
       "            x <- ecdf(x)\n",
       "            attr(x, \"call\") <- call(\"ecdf\", sarg)\n",
       "        }\n",
       "        else stop(\"'plot.stepfun' called with wrong type of argument 'x'\")\n",
       "    }\n",
       "    if (missing(main)) \n",
       "        main <- {\n",
       "            cl <- attr(x, \"call\")\n",
       "            deparse(if (!is.null(cl)) \n",
       "                cl\n",
       "            else sys.call())\n",
       "        }\n",
       "    knF <- knots(x)\n",
       "    xval <- if (missing(xval)) \n",
       "        knF\n",
       "    else sort(xval)\n",
       "    if (missing(xlim)) {\n",
       "        rx <- range(xval)\n",
       "        dr <- if (length(xval) > 1L) \n",
       "            max(0.08 * diff(rx), median(diff(xval)))\n",
       "        else abs(xval)/16\n",
       "        xlim <- rx + dr * c(-1, 1)\n",
       "    }\n",
       "    else dr <- diff(xlim)\n",
       "    xval <- xval[xlim[1L] - dr <= xval & xval <= xlim[2L] + dr]\n",
       "    ti <- c(xlim[1L] - dr, xval, xlim[2L] + dr)\n",
       "    ti.l <- ti[-length(ti)]\n",
       "    ti.r <- ti[-1L]\n",
       "    y <- x(0.5 * (ti.l + ti.r))\n",
       "    n <- length(y)\n",
       "    Fn.kn <- x(xval)\n",
       "    dev.hold()\n",
       "    on.exit(dev.flush())\n",
       "    if (add) \n",
       "        segments(ti.l, y, ti.r, y, col = col.hor, lty = lty, \n",
       "            lwd = lwd, ...)\n",
       "    else {\n",
       "        if (missing(ylim)) \n",
       "            ylim <- range(c(y, Fn.kn))\n",
       "        plot(NA, NA, type = \"n\", xlim = xlim, ylim = ylim, xlab = xlab, \n",
       "            ylab = ylab, main = main, ...)\n",
       "        segments(ti.l, y, ti.r, y, col = col.hor, lty = lty, \n",
       "            lwd = lwd)\n",
       "    }\n",
       "    if (do.points) \n",
       "        points(xval, Fn.kn, pch = pch, col = col.points, cex = cex.points)\n",
       "    if (verticals) \n",
       "        segments(xval, y[-n], xval, y[-1L], col = col.vert, lty = lty, \n",
       "            lwd = lwd)\n",
       "    invisible(list(t = ti, y = y))\n",
       "}\n",
       "```"
      ],
      "text/plain": [
       "function (x, xval, xlim, ylim = range(c(y, Fn.kn)), xlab = \"x\", \n",
       "    ylab = \"f(x)\", main = NULL, add = FALSE, verticals = TRUE, \n",
       "    do.points = (n < 1000), pch = par(\"pch\"), col = par(\"col\"), \n",
       "    col.points = col, cex.points = par(\"cex\"), col.hor = col, \n",
       "    col.vert = col, lty = par(\"lty\"), lwd = par(\"lwd\"), ...) \n",
       "{\n",
       "    if (!is.stepfun(x)) {\n",
       "        if (is.numeric(x)) {\n",
       "            sarg <- substitute(x)\n",
       "            x <- ecdf(x)\n",
       "            attr(x, \"call\") <- call(\"ecdf\", sarg)\n",
       "        }\n",
       "        else stop(\"'plot.stepfun' called with wrong type of argument 'x'\")\n",
       "    }\n",
       "    if (missing(main)) \n",
       "        main <- {\n",
       "            cl <- attr(x, \"call\")\n",
       "            deparse(if (!is.null(cl)) \n",
       "                cl\n",
       "            else sys.call())\n",
       "        }\n",
       "    knF <- knots(x)\n",
       "    xval <- if (missing(xval)) \n",
       "        knF\n",
       "    else sort(xval)\n",
       "    if (missing(xlim)) {\n",
       "        rx <- range(xval)\n",
       "        dr <- if (length(xval) > 1L) \n",
       "            max(0.08 * diff(rx), median(diff(xval)))\n",
       "        else abs(xval)/16\n",
       "        xlim <- rx + dr * c(-1, 1)\n",
       "    }\n",
       "    else dr <- diff(xlim)\n",
       "    xval <- xval[xlim[1L] - dr <= xval & xval <= xlim[2L] + dr]\n",
       "    ti <- c(xlim[1L] - dr, xval, xlim[2L] + dr)\n",
       "    ti.l <- ti[-length(ti)]\n",
       "    ti.r <- ti[-1L]\n",
       "    y <- x(0.5 * (ti.l + ti.r))\n",
       "    n <- length(y)\n",
       "    Fn.kn <- x(xval)\n",
       "    dev.hold()\n",
       "    on.exit(dev.flush())\n",
       "    if (add) \n",
       "        segments(ti.l, y, ti.r, y, col = col.hor, lty = lty, \n",
       "            lwd = lwd, ...)\n",
       "    else {\n",
       "        if (missing(ylim)) \n",
       "            ylim <- range(c(y, Fn.kn))\n",
       "        plot(NA, NA, type = \"n\", xlim = xlim, ylim = ylim, xlab = xlab, \n",
       "            ylab = ylab, main = main, ...)\n",
       "        segments(ti.l, y, ti.r, y, col = col.hor, lty = lty, \n",
       "            lwd = lwd)\n",
       "    }\n",
       "    if (do.points) \n",
       "        points(xval, Fn.kn, pch = pch, col = col.points, cex = cex.points)\n",
       "    if (verticals) \n",
       "        segments(xval, y[-n], xval, y[-1L], col = col.vert, lty = lty, \n",
       "            lwd = lwd)\n",
       "    invisible(list(t = ti, y = y))\n",
       "}\n",
       "<bytecode: 0x5500a50>\n",
       "<environment: namespace:stats>"
      ]
     },
     "metadata": {},
     "output_type": "display_data"
    }
   ],
   "source": [
    "plot.stepfun"
   ]
  },
  {
   "cell_type": "code",
   "execution_count": null,
   "metadata": {},
   "outputs": [],
   "source": []
  }
 ],
 "metadata": {
  "kernelspec": {
   "display_name": "R",
   "language": "R",
   "name": "ir"
  },
  "language_info": {
   "codemirror_mode": "r",
   "file_extension": ".r",
   "mimetype": "text/x-r-source",
   "name": "R",
   "pygments_lexer": "r",
   "version": "3.5.0"
  }
 },
 "nbformat": 4,
 "nbformat_minor": 2
}
