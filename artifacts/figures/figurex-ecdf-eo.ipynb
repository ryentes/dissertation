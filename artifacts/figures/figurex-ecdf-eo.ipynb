{
 "cells": [
  {
   "cell_type": "code",
   "execution_count": 4,
   "metadata": {},
   "outputs": [],
   "source": [
    "library(rdydisstools)\n",
    "library(ggplot2)\n",
    "library(svglite)\n",
    "setwd('~/notebooks/dissertation')\n",
    "loadpackages(c('doParallel', 'foreach', 'logging', 'glue', 'grid', 'gridExtra', 'dplyr', 'ggplot2'))\n",
    "df <- load('artifacts/rq1/maxJ.RData')\n",
    "thisdir <- '~/notebooks/dissertation/artifacts/figures/'"
   ]
  },
  {
   "cell_type": "markdown",
   "metadata": {},
   "source": [
    "Figure 1.1 Histogram of the standard deviation index for maximum informedness of even-odd for simulated samples"
   ]
  },
  {
   "cell_type": "markdown",
   "metadata": {},
   "source": [
    "## Look at stability of the SD at which J is max across samples"
   ]
  },
  {
   "cell_type": "code",
   "execution_count": 10,
   "metadata": {},
   "outputs": [],
   "source": [
    "mu = round(mean(maxJ$eo), 1)\n",
    "eoecdf <- maxJ %>% ggplot(aes(x=eo)) + stat_ecdf(geom='line') + geom_vline(xintercept = mean(maxJ$eo), linetype=\"dashed\", \n",
    "                              color = \"red\", size=.5)  + annotate(\"text\", x = mu - .5, y=.80, label = paste(\"Mean =\", mu), color='red') + \n",
    "                              xlim(-3,3) + ylab(\"Proportion of samples\") + xlab(\"Even-odd\")"
   ]
  },
  {
   "cell_type": "code",
   "execution_count": 11,
   "metadata": {},
   "outputs": [
    {
     "name": "stderr",
     "output_type": "stream",
     "text": [
      "Saving 6.67 x 6.67 in image\n"
     ]
    }
   ],
   "source": [
    "ggsave(paste0(thisdir, 'images/eoecdf.svg'), eoecdf, device='svg')"
   ]
  },
  {
   "cell_type": "code",
   "execution_count": null,
   "metadata": {},
   "outputs": [],
   "source": []
  },
  {
   "cell_type": "code",
   "execution_count": null,
   "metadata": {},
   "outputs": [],
   "source": []
  }
 ],
 "metadata": {
  "kernelspec": {
   "display_name": "R",
   "language": "R",
   "name": "ir"
  },
  "language_info": {
   "codemirror_mode": "r",
   "file_extension": ".r",
   "mimetype": "text/x-r-source",
   "name": "R",
   "pygments_lexer": "r",
   "version": "3.5.1"
  }
 },
 "nbformat": 4,
 "nbformat_minor": 2
}
