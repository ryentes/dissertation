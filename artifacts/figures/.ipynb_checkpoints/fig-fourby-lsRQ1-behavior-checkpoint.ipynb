{
 "cells": [
  {
   "cell_type": "code",
   "execution_count": 30,
   "metadata": {},
   "outputs": [],
   "source": [
    "library(rdydisstools)\n",
    "library(ggplot2)\n",
    "library(svglite)\n",
    "setwd('~/notebooks/dissertation')\n",
    "loadpackages(c('doParallel', 'foreach', 'logging', 'glue', 'grid', 'gridExtra', 'dplyr', 'ggplot2'))\n",
    "df <- load('artifacts/rq1/maxJ.RData')\n",
    "thisdir <- '~/notebooks/dissertation/artifacts/figures/'"
   ]
  },
  {
   "cell_type": "code",
   "execution_count": 31,
   "metadata": {},
   "outputs": [],
   "source": [
    "load('data/simsample1.RData')"
   ]
  },
  {
   "cell_type": "code",
   "execution_count": 32,
   "metadata": {},
   "outputs": [
    {
     "ename": "ERROR",
     "evalue": "Error in plotBehavior(df, method = \"lsRQ1\", min = -3, max = 3): could not find function \"plotBehavior\"\n",
     "output_type": "error",
     "traceback": [
      "Error in plotBehavior(df, method = \"lsRQ1\", min = -3, max = 3): could not find function \"plotBehavior\"\nTraceback:\n"
     ]
    }
   ],
   "source": [
    "plotBehavior(df, method='lsRQ1', min=-3,max=3)"
   ]
  },
  {
   "cell_type": "code",
   "execution_count": 17,
   "metadata": {},
   "outputs": [
    {
     "data": {},
     "metadata": {},
     "output_type": "display_data"
    },
    {
     "data": {
      "image/png": "[encoded data removed]",
      "text/plain": [
       "plot without title"
      ]
     },
     "metadata": {},
     "output_type": "display_data"
    }
   ],
   "source": [
    "plot(ls$informedness, i)"
   ]
  },
  {
   "cell_type": "code",
   "execution_count": 28,
   "metadata": {},
   "outputs": [
    {
     "name": "stderr",
     "output_type": "stream",
     "text": [
      "Downloading GitHub repo ryentes/rdy-dissertation-tools@master\n",
      "from URL https://api.github.com/repos/ryentes/rdy-dissertation-tools/zipball/master\n",
      "Installing rdydisstools\n",
      "'/usr/lib64/R/bin/R' --no-site-file --no-environ --no-save --no-restore  \\\n",
      "  --quiet CMD INSTALL  \\\n",
      "  '/tmp/RtmpTgeDjO/devtools33332fe1cf2f/ryentes-rdy-dissertation-tools-0ca25b3'  \\\n",
      "  --library='/home/centos/R/x86_64-redhat-linux-gnu-library/3.5'  \\\n",
      "  --install-tests \n",
      "\n",
      "Reloading installed rdydisstools\n"
     ]
    }
   ],
   "source": [
    "devtools::install_github('ryentes/rdy-dissertation-tools')"
   ]
  },
  {
   "cell_type": "code",
   "execution_count": 34,
   "metadata": {},
   "outputs": [
    {
     "data": {
      "text/plain": [
       "clearExperiment : function (hypothesis)  \n",
       "confusionMatrix : function (predictions, observed)  \n",
       "crmetric : function (metric, careless, crModel)  \n",
       "crModel : function (label, mu, sigma)  \n",
       "dataModel : function (factorCorrelations, itemParameters, nchar)  \n",
       "dispatchClassifierEval : function (x, method, ...)  \n",
       "dispatchH1 : function (x, ...)  \n",
       "dispatchRQ1 : function (x, what, ...)  \n",
       "evenoddClassifier : function (x, ...)  \n",
       "genCentered : function (x, floor = 1, ceiling = 7)  \n",
       "genSkew : function (x, mu = 5.75, sigma = 1.25, floor = 1, ceiling = 7)  \n",
       "getProportionFromModel : function (m, n)  \n",
       "getRandomGaussian : function (mu, sigma, max)  \n",
       "informedness : function (range, informedness)  \n",
       "loadpackages : function (x = c(\"dplyr\", \"ggplot2\", \"grid\", \"gridExtra\"))  \n",
       "longstringClassifier : function (x, ...)  \n",
       "mahadClassifier : function (x, ...)  \n",
       "makeRownames : function (n)  \n",
       "maxLookup : function (x, right = FALSE)  \n",
       "modelSlopes : function (ipar, names, nchar)  \n",
       "optimizeMahaD : function (x, ...)  \n",
       "recursiveAssign : function (x, d, labels)  \n",
       "reverse : function (var, max)  \n",
       "reverseCode : function (x, neg, max)  \n",
       "rmfiles : function (path)  \n",
       "sdInquisition : function (metric, truth, crModel, ...)  \n",
       "sdRocer : function (metric, truth, crModel, from, to, by, ...)  \n",
       "simCareless : function (x, ...)  \n",
       "simCenteredCareless : function (x, ...)  \n",
       "simFactorScores : function (x, n)  \n",
       "simLongstringCareless : function (x, ...)  \n",
       "simSkewedCareless : function (x, ...)  "
      ]
     },
     "metadata": {},
     "output_type": "display_data"
    }
   ],
   "source": []
  },
  {
   "cell_type": "code",
   "execution_count": null,
   "metadata": {},
   "outputs": [],
   "source": []
  }
 ],
 "metadata": {
  "kernelspec": {
   "display_name": "R",
   "language": "R",
   "name": "ir"
  },
  "language_info": {
   "codemirror_mode": "r",
   "file_extension": ".r",
   "mimetype": "text/x-r-source",
   "name": "R",
   "pygments_lexer": "r",
   "version": "3.5.1"
  }
 },
 "nbformat": 4,
 "nbformat_minor": 2
}
