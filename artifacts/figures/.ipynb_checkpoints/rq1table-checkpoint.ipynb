{
 "cells": [
  {
   "cell_type": "code",
   "execution_count": 1,
   "metadata": {},
   "outputs": [
    {
     "name": "stderr",
     "output_type": "stream",
     "text": [
      "\n",
      "Attaching package: ‘dplyr’\n",
      "\n",
      "The following object is masked from ‘package:glue’:\n",
      "\n",
      "    collapse\n",
      "\n",
      "The following objects are masked from ‘package:stats’:\n",
      "\n",
      "    filter, lag\n",
      "\n",
      "The following objects are masked from ‘package:base’:\n",
      "\n",
      "    intersect, setdiff, setequal, union\n",
      "\n"
     ]
    }
   ],
   "source": [
    "library(rdydisstools)\n",
    "library(ggplot2)\n",
    "library(svglite)\n",
    "library(glue)\n",
    "library(dplyr)"
   ]
  },
  {
   "cell_type": "markdown",
   "metadata": {},
   "source": [
    "Ok, so first we're going to grab the maxj data from our artifacts folder then bind it all up into one data frame"
   ]
  },
  {
   "cell_type": "code",
   "execution_count": 2,
   "metadata": {},
   "outputs": [],
   "source": [
    "for(i in 1:5000) {\n",
    "    lsfn <- glue::glue('~/notebooks/dissertation/artifacts/rq1/ls/sim{i}.RData')\n",
    "    eofn <- glue::glue('~/notebooks/dissertation/artifacts/rq1/eo/sim{i}.RData')\n",
    "    mdfn <- glue::glue('~/notebooks/dissertation/artifacts/rq1/md/sim{i}.RData')\n",
    "    \n",
    "    load(lsfn)\n",
    "    load(eofn)\n",
    "    load(mdfn)\n",
    "    \n",
    "    row <- cbind(maxLookup(ls$informedness), maxLookup(eo$informedness), maxLookup(md$informedness))\n",
    "                           \n",
    "    if(i==1) {\n",
    "        df <- row\n",
    "    } else {\n",
    "        df <- rbind(df, row)\n",
    "    }\n",
    "}\n",
    "\n",
    "colnames(df) <- c(\"ls.range\", \"ls.informedness\", \"ls.meanJ\", \"ls.sdJ\",\n",
    "                  \"eo.range\", \"eo.informedness\", \"eo.meanJ\", \"eo.sdJ\",\n",
    "                  \"md.range\", \"md.informedness\", \"md.meanJ\", \"md.sdJ\")"
   ]
  },
  {
   "cell_type": "markdown",
   "metadata": {},
   "source": [
    "Next, let's the metrics out into their own datasets (we could avoid this step if we didn't cbind in the previous step)"
   ]
  },
  {
   "cell_type": "code",
   "execution_count": 3,
   "metadata": {},
   "outputs": [],
   "source": [
    "lsmetrics <- df %>% select(ls.range, ls.informedness, ls.meanJ, ls.sdJ)\n",
    "eometrics <- df %>% select(eo.range, eo.informedness, eo.meanJ, eo.sdJ)\n",
    "mdmetrics <- df %>% select(md.range, md.informedness, md.meanJ, md.sdJ)"
   ]
  },
  {
   "cell_type": "markdown",
   "metadata": {},
   "source": [
    "Next, we're going to calculate the measures of central tendency for the index of maxJ for each metric. My proposal was to use the value of informedness at the threshold of average(maxJ) over all samples. Mean, Median, and Mode are all types of averages, and there may be a strong argument to using something like the mode instead of mean. Despite this, I think it would confuse readers, so I'll stick with mean for now, unless a good reason arises."
   ]
  },
  {
   "cell_type": "code",
   "execution_count": 4,
   "metadata": {},
   "outputs": [
    {
     "data": {
      "text/html": [
       "<table>\n",
       "<caption>A data.frame: 3 × 5</caption>\n",
       "<thead>\n",
       "\t<tr><th scope=col>labels</th><th scope=col>mean</th><th scope=col>sd</th><th scope=col>median</th><th scope=col>mode</th></tr>\n",
       "\t<tr><th scope=col>&lt;fct&gt;</th><th scope=col>&lt;chr&gt;</th><th scope=col>&lt;chr&gt;</th><th scope=col>&lt;dbl&gt;</th><th scope=col>&lt;dbl&gt;</th></tr>\n",
       "</thead>\n",
       "<tbody>\n",
       "\t<tr><td>Longstring</td><td>0.39</td><td>0.36</td><td>0.4</td><td> 0.4</td></tr>\n",
       "\t<tr><td>Even-odd  </td><td>0.22</td><td>0.74</td><td>0.1</td><td>-0.3</td></tr>\n",
       "\t<tr><td>Outlier   </td><td>0.54</td><td>0.5 </td><td>0.5</td><td> 0.3</td></tr>\n",
       "</tbody>\n",
       "</table>\n"
      ],
      "text/latex": [
       "A data.frame: 3 × 5\n",
       "\\begin{tabular}{r|lllll}\n",
       " labels & mean & sd & median & mode\\\\\n",
       " <fct> & <chr> & <chr> & <dbl> & <dbl>\\\\\n",
       "\\hline\n",
       "\t Longstring & 0.39 & 0.36 & 0.4 &  0.4\\\\\n",
       "\t Even-odd   & 0.22 & 0.74 & 0.1 & -0.3\\\\\n",
       "\t Outlier    & 0.54 & 0.5  & 0.5 &  0.3\\\\\n",
       "\\end{tabular}\n"
      ],
      "text/markdown": [
       "\n",
       "A data.frame: 3 × 5\n",
       "\n",
       "| labels &lt;fct&gt; | mean &lt;chr&gt; | sd &lt;chr&gt; | median &lt;dbl&gt; | mode &lt;dbl&gt; |\n",
       "|---|---|---|---|---|\n",
       "| Longstring | 0.39 | 0.36 | 0.4 |  0.4 |\n",
       "| Even-odd   | 0.22 | 0.74 | 0.1 | -0.3 |\n",
       "| Outlier    | 0.54 | 0.5  | 0.5 |  0.3 |\n",
       "\n"
      ],
      "text/plain": [
       "  labels     mean sd   median mode\n",
       "1 Longstring 0.39 0.36 0.4     0.4\n",
       "2 Even-odd   0.22 0.74 0.1    -0.3\n",
       "3 Outlier    0.54 0.5  0.5     0.3"
      ]
     },
     "metadata": {},
     "output_type": "display_data"
    }
   ],
   "source": [
    "mode <- rbind(indexOfMode(lsmetrics), indexOfMode(eometrics), indexOfMode(mdmetrics))\n",
    "lsct <- lsmetrics %>% summarise(mean=format(mean(ls.range), digits=2), sd=format(sd(ls.range), digits=2), median=median(ls.range))\n",
    "eoct <- eometrics %>% summarise(mean=format(mean(eo.range), digits=2), sd=format(sd(eo.range), digits=2), median=median(eo.range))\n",
    "mdct <- mdmetrics %>% summarise(mean=format(mean(md.range), digits=2), sd=format(sd(md.range), digits=2), median=median(md.range))\n",
    "ct <- cbind(rbind(lsct, eoct, mdct), mode)\n",
    "colnames(ct)[4] = \"mode\"\n",
    "labels <- rbind(\"Longstring\", \"Even-odd\", \"Outlier\")\n",
    "cbind(labels, ct)"
   ]
  },
  {
   "cell_type": "markdown",
   "metadata": {},
   "source": [
    "Now that we've found the index of avg(maxJ) for each metric we're going to look up informedness at that threshold for each sample and metric. To do that we do need to go back through each of the datasets and find the value of J at the chosen threshold. For longstring, that's .4; evenodd is .2; outlier is .5."
   ]
  },
  {
   "cell_type": "code",
   "execution_count": 5,
   "metadata": {},
   "outputs": [],
   "source": [
    "for(i in 1:5000) {\n",
    "    lsfn <- glue::glue('~/notebooks/dissertation/artifacts/rq1/ls/sim{i}.RData')\n",
    "    eofn <- glue::glue('~/notebooks/dissertation/artifacts/rq1/eo/sim{i}.RData')\n",
    "    mdfn <- glue::glue('~/notebooks/dissertation/artifacts/rq1/md/sim{i}.RData')\n",
    "    \n",
    "    load(lsfn)\n",
    "    load(eofn)\n",
    "    load(mdfn)\n",
    "    \n",
    "    row <- cbind(i, jLookup(ls$informedness, .4), jLookup(eo$informedness, .2), jLookup(md$informedness, .5))\n",
    "     if(i==1) {\n",
    "        df2 <- row\n",
    "    } else {\n",
    "        df2 <- rbind(df2, row)\n",
    "    }\n",
    "    \n",
    "    colnames(df2) <- c(\"sample\", \"lsjat.4\", \"eojat.2\", \"mdjat.5\")\n",
    "}\n"
   ]
  },
  {
   "cell_type": "code",
   "execution_count": 7,
   "metadata": {},
   "outputs": [
    {
     "data": {
      "text/html": [
       "<table>\n",
       "<caption>A matrix: 6 × 4 of type dbl</caption>\n",
       "<thead>\n",
       "\t<tr><th scope=col>sample</th><th scope=col>lsjat.4</th><th scope=col>eojat.2</th><th scope=col>mdjat.5</th></tr>\n",
       "</thead>\n",
       "<tbody>\n",
       "\t<tr><td>1</td><td>0.2619138</td><td> 0.01232536</td><td>0.09645013</td></tr>\n",
       "\t<tr><td>2</td><td>0.2052767</td><td> 0.05148005</td><td>0.17824968</td></tr>\n",
       "\t<tr><td>3</td><td>0.2189474</td><td> 0.06315789</td><td>0.28842105</td></tr>\n",
       "\t<tr><td>4</td><td>0.1667888</td><td> 0.07203907</td><td>0.23199023</td></tr>\n",
       "\t<tr><td>5</td><td>0.1013825</td><td> 0.14132104</td><td>0.38832565</td></tr>\n",
       "\t<tr><td>6</td><td>0.2174665</td><td>-0.02190705</td><td>0.10860664</td></tr>\n",
       "</tbody>\n",
       "</table>\n"
      ],
      "text/latex": [
       "A matrix: 6 × 4 of type dbl\n",
       "\\begin{tabular}{llll}\n",
       " sample & lsjat.4 & eojat.2 & mdjat.5\\\\\n",
       "\\hline\n",
       "\t 1 & 0.2619138 &  0.01232536 & 0.09645013\\\\\n",
       "\t 2 & 0.2052767 &  0.05148005 & 0.17824968\\\\\n",
       "\t 3 & 0.2189474 &  0.06315789 & 0.28842105\\\\\n",
       "\t 4 & 0.1667888 &  0.07203907 & 0.23199023\\\\\n",
       "\t 5 & 0.1013825 &  0.14132104 & 0.38832565\\\\\n",
       "\t 6 & 0.2174665 & -0.02190705 & 0.10860664\\\\\n",
       "\\end{tabular}\n"
      ],
      "text/markdown": [
       "\n",
       "A matrix: 6 × 4 of type dbl\n",
       "\n",
       "| sample | lsjat.4 | eojat.2 | mdjat.5 |\n",
       "|---|---|---|---|\n",
       "| 1 | 0.2619138 |  0.01232536 | 0.09645013 |\n",
       "| 2 | 0.2052767 |  0.05148005 | 0.17824968 |\n",
       "| 3 | 0.2189474 |  0.06315789 | 0.28842105 |\n",
       "| 4 | 0.1667888 |  0.07203907 | 0.23199023 |\n",
       "| 5 | 0.1013825 |  0.14132104 | 0.38832565 |\n",
       "| 6 | 0.2174665 | -0.02190705 | 0.10860664 |\n",
       "\n"
      ],
      "text/plain": [
       "     sample lsjat.4   eojat.2     mdjat.5   \n",
       "[1,] 1      0.2619138  0.01232536 0.09645013\n",
       "[2,] 2      0.2052767  0.05148005 0.17824968\n",
       "[3,] 3      0.2189474  0.06315789 0.28842105\n",
       "[4,] 4      0.1667888  0.07203907 0.23199023\n",
       "[5,] 5      0.1013825  0.14132104 0.38832565\n",
       "[6,] 6      0.2174665 -0.02190705 0.10860664"
      ]
     },
     "metadata": {},
     "output_type": "display_data"
    },
    {
     "data": {
      "text/html": [
       "<table>\n",
       "<caption>A data.frame: 6 × 7</caption>\n",
       "<thead>\n",
       "\t<tr><th scope=col>sample</th><th scope=col>lsjat.4</th><th scope=col>eojat.2</th><th scope=col>mdjat.5</th><th scope=col>ls.eval</th><th scope=col>eo.eval</th><th scope=col>md.eval</th></tr>\n",
       "\t<tr><th scope=col>&lt;dbl&gt;</th><th scope=col>&lt;dbl&gt;</th><th scope=col>&lt;dbl&gt;</th><th scope=col>&lt;dbl&gt;</th><th scope=col>&lt;dbl&gt;</th><th scope=col>&lt;dbl&gt;</th><th scope=col>&lt;dbl&gt;</th></tr>\n",
       "</thead>\n",
       "<tbody>\n",
       "\t<tr><td>1</td><td>0.2619138</td><td> 0.01232536</td><td>0.09645013</td><td>1</td><td>1</td><td>1</td></tr>\n",
       "\t<tr><td>2</td><td>0.2052767</td><td> 0.05148005</td><td>0.17824968</td><td>1</td><td>1</td><td>1</td></tr>\n",
       "\t<tr><td>3</td><td>0.2189474</td><td> 0.06315789</td><td>0.28842105</td><td>1</td><td>1</td><td>1</td></tr>\n",
       "\t<tr><td>4</td><td>0.1667888</td><td> 0.07203907</td><td>0.23199023</td><td>1</td><td>1</td><td>1</td></tr>\n",
       "\t<tr><td>5</td><td>0.1013825</td><td> 0.14132104</td><td>0.38832565</td><td>1</td><td>1</td><td>1</td></tr>\n",
       "\t<tr><td>6</td><td>0.2174665</td><td>-0.02190705</td><td>0.10860664</td><td>1</td><td>0</td><td>1</td></tr>\n",
       "</tbody>\n",
       "</table>\n"
      ],
      "text/latex": [
       "A data.frame: 6 × 7\n",
       "\\begin{tabular}{r|lllllll}\n",
       " sample & lsjat.4 & eojat.2 & mdjat.5 & ls.eval & eo.eval & md.eval\\\\\n",
       " <dbl> & <dbl> & <dbl> & <dbl> & <dbl> & <dbl> & <dbl>\\\\\n",
       "\\hline\n",
       "\t 1 & 0.2619138 &  0.01232536 & 0.09645013 & 1 & 1 & 1\\\\\n",
       "\t 2 & 0.2052767 &  0.05148005 & 0.17824968 & 1 & 1 & 1\\\\\n",
       "\t 3 & 0.2189474 &  0.06315789 & 0.28842105 & 1 & 1 & 1\\\\\n",
       "\t 4 & 0.1667888 &  0.07203907 & 0.23199023 & 1 & 1 & 1\\\\\n",
       "\t 5 & 0.1013825 &  0.14132104 & 0.38832565 & 1 & 1 & 1\\\\\n",
       "\t 6 & 0.2174665 & -0.02190705 & 0.10860664 & 1 & 0 & 1\\\\\n",
       "\\end{tabular}\n"
      ],
      "text/markdown": [
       "\n",
       "A data.frame: 6 × 7\n",
       "\n",
       "| sample &lt;dbl&gt; | lsjat.4 &lt;dbl&gt; | eojat.2 &lt;dbl&gt; | mdjat.5 &lt;dbl&gt; | ls.eval &lt;dbl&gt; | eo.eval &lt;dbl&gt; | md.eval &lt;dbl&gt; |\n",
       "|---|---|---|---|---|---|---|\n",
       "| 1 | 0.2619138 |  0.01232536 | 0.09645013 | 1 | 1 | 1 |\n",
       "| 2 | 0.2052767 |  0.05148005 | 0.17824968 | 1 | 1 | 1 |\n",
       "| 3 | 0.2189474 |  0.06315789 | 0.28842105 | 1 | 1 | 1 |\n",
       "| 4 | 0.1667888 |  0.07203907 | 0.23199023 | 1 | 1 | 1 |\n",
       "| 5 | 0.1013825 |  0.14132104 | 0.38832565 | 1 | 1 | 1 |\n",
       "| 6 | 0.2174665 | -0.02190705 | 0.10860664 | 1 | 0 | 1 |\n",
       "\n"
      ],
      "text/plain": [
       "  sample lsjat.4   eojat.2     mdjat.5    ls.eval eo.eval md.eval\n",
       "1 1      0.2619138  0.01232536 0.09645013 1       1       1      \n",
       "2 2      0.2052767  0.05148005 0.17824968 1       1       1      \n",
       "3 3      0.2189474  0.06315789 0.28842105 1       1       1      \n",
       "4 4      0.1667888  0.07203907 0.23199023 1       1       1      \n",
       "5 5      0.1013825  0.14132104 0.38832565 1       1       1      \n",
       "6 6      0.2174665 -0.02190705 0.10860664 1       0       1      "
      ]
     },
     "metadata": {},
     "output_type": "display_data"
    },
    {
     "data": {
      "text/html": [
       "<table>\n",
       "<caption>A data.frame: 1 × 9</caption>\n",
       "<thead>\n",
       "\t<tr><th scope=col>ls.total</th><th scope=col>ls.total.mean</th><th scope=col>ls.total.sd</th><th scope=col>eo.total</th><th scope=col>eo.total.mean</th><th scope=col>eo.total.sd</th><th scope=col>md.total</th><th scope=col>md.total.mean</th><th scope=col>md.total.sd</th></tr>\n",
       "\t<tr><th scope=col>&lt;dbl&gt;</th><th scope=col>&lt;dbl&gt;</th><th scope=col>&lt;dbl&gt;</th><th scope=col>&lt;dbl&gt;</th><th scope=col>&lt;dbl&gt;</th><th scope=col>&lt;dbl&gt;</th><th scope=col>&lt;dbl&gt;</th><th scope=col>&lt;dbl&gt;</th><th scope=col>&lt;dbl&gt;</th></tr>\n",
       "</thead>\n",
       "<tbody>\n",
       "\t<tr><td>4960</td><td>0.2612381</td><td>0.1243657</td><td>4208</td><td>0.08444369</td><td>0.08499929</td><td>4865</td><td>0.1749188</td><td>0.09629145</td></tr>\n",
       "</tbody>\n",
       "</table>\n"
      ],
      "text/latex": [
       "A data.frame: 1 × 9\n",
       "\\begin{tabular}{r|lllllllll}\n",
       " ls.total & ls.total.mean & ls.total.sd & eo.total & eo.total.mean & eo.total.sd & md.total & md.total.mean & md.total.sd\\\\\n",
       " <dbl> & <dbl> & <dbl> & <dbl> & <dbl> & <dbl> & <dbl> & <dbl> & <dbl>\\\\\n",
       "\\hline\n",
       "\t 4960 & 0.2612381 & 0.1243657 & 4208 & 0.08444369 & 0.08499929 & 4865 & 0.1749188 & 0.09629145\\\\\n",
       "\\end{tabular}\n"
      ],
      "text/markdown": [
       "\n",
       "A data.frame: 1 × 9\n",
       "\n",
       "| ls.total &lt;dbl&gt; | ls.total.mean &lt;dbl&gt; | ls.total.sd &lt;dbl&gt; | eo.total &lt;dbl&gt; | eo.total.mean &lt;dbl&gt; | eo.total.sd &lt;dbl&gt; | md.total &lt;dbl&gt; | md.total.mean &lt;dbl&gt; | md.total.sd &lt;dbl&gt; |\n",
       "|---|---|---|---|---|---|---|---|---|\n",
       "| 4960 | 0.2612381 | 0.1243657 | 4208 | 0.08444369 | 0.08499929 | 4865 | 0.1749188 | 0.09629145 |\n",
       "\n"
      ],
      "text/plain": [
       "  ls.total ls.total.mean ls.total.sd eo.total eo.total.mean eo.total.sd\n",
       "1 4960     0.2612381     0.1243657   4208     0.08444369    0.08499929 \n",
       "  md.total md.total.mean md.total.sd\n",
       "1 4865     0.1749188     0.09629145 "
      ]
     },
     "metadata": {},
     "output_type": "display_data"
    }
   ],
   "source": [
    "df2 %>% head\n",
    "evals <- df2 %>% as.data.frame() %>% mutate(ls.eval=case_when(lsjat.4 > 0 ~ 1,\n",
    "                                                      TRUE ~ 0),\n",
    "                                   eo.eval=case_when(eojat.2 > 0 ~ 1,\n",
    "                                                      TRUE ~ 0),\n",
    "                                   md.eval=case_when(mdjat.5 > 0 ~ 1,\n",
    "                                                      TRUE ~ 0))\n",
    "\n",
    "head(evals)\n",
    "evals %>% summarise(ls.total=sum(ls.eval), ls.total.mean=mean(lsjat.4), ls.total.sd=sd(lsjat.4), eo.total=sum(eo.eval), eo.total.mean=mean(eojat.2), eo.total.sd=sd(eojat.2), md.total=sum(md.eval), md.total.mean=mean(mdjat.5), md.total.sd=sd(mdjat.5))"
   ]
  },
  {
   "cell_type": "code",
   "execution_count": 74,
   "metadata": {},
   "outputs": [
    {
     "data": {
      "text/html": [],
      "text/latex": [],
      "text/markdown": [],
      "text/plain": [
       "numeric(0)"
      ]
     },
     "metadata": {},
     "output_type": "display_data"
    }
   ],
   "source": [
    "jLookup(ls$informedness, .4)"
   ]
  },
  {
   "cell_type": "code",
   "execution_count": 59,
   "metadata": {},
   "outputs": [],
   "source": [
    "jL <- function(x, i) {\n",
    "  j = which(x[,1]==i)\n",
    "  return(x[j,2])\n",
    "}"
   ]
  },
  {
   "cell_type": "code",
   "execution_count": 123,
   "metadata": {},
   "outputs": [
    {
     "data": {
      "text/html": [
       "0.1"
      ],
      "text/latex": [
       "0.1"
      ],
      "text/markdown": [
       "0.1"
      ],
      "text/plain": [
       "[1] 0.1"
      ]
     },
     "metadata": {},
     "output_type": "display_data"
    },
    {
     "data": {
      "text/html": [
       "35"
      ],
      "text/latex": [
       "35"
      ],
      "text/markdown": [
       "35"
      ],
      "text/plain": [
       "[1] 35"
      ]
     },
     "metadata": {},
     "output_type": "display_data"
    }
   ],
   "source": [
    "ls$informedness$range[32]\n",
    "which(sapply(ls$informedness$range, function(x) isTRUE(all.equal(x, .4))))"
   ]
  },
  {
   "cell_type": "code",
   "execution_count": 241,
   "metadata": {},
   "outputs": [
    {
     "data": {
      "text/html": [
       "-0.0999999999999996"
      ],
      "text/latex": [
       "-0.0999999999999996"
      ],
      "text/markdown": [
       "-0.0999999999999996"
      ],
      "text/plain": [
       "[1] -0.1"
      ]
     },
     "metadata": {},
     "output_type": "display_data"
    }
   ],
   "source": [
    "indexOfMode <- function(x) {\n",
    "    df <- x %>% group_by(.[,1]) %>% summarise(n = n()) %>% mutate(max=max(n))\n",
    "    x[which(is.equal(df$n, df$max)),1]\n",
    "}"
   ]
  },
  {
   "cell_type": "code",
   "execution_count": 243,
   "metadata": {},
   "outputs": [
    {
     "data": {
      "text/html": [
       "<table>\n",
       "<thead><tr><th scope=col>ls.range</th><th scope=col>ls.informedness</th><th scope=col>ls.meanJ</th><th scope=col>ls.sdJ</th><th scope=col>n</th></tr></thead>\n",
       "<tbody>\n",
       "\t<tr><td> 0.0      </td><td>0.35916593</td><td>0.14512739</td><td>0.13173527</td><td>482       </td></tr>\n",
       "\t<tr><td> 0.5      </td><td>0.21428571</td><td>0.10869886</td><td>0.10508109</td><td>565       </td></tr>\n",
       "\t<tr><td> 0.8      </td><td>0.24000000</td><td>0.12024159</td><td>0.11493342</td><td>181       </td></tr>\n",
       "\t<tr><td> 0.1      </td><td>0.18510379</td><td>0.08996978</td><td>0.08976647</td><td>582       </td></tr>\n",
       "\t<tr><td> 1.1      </td><td>0.11428571</td><td>0.04556924</td><td>0.06500177</td><td> 61       </td></tr>\n",
       "\t<tr><td> 0.0      </td><td>0.22582415</td><td>0.10094654</td><td>0.09740270</td><td>482       </td></tr>\n",
       "\t<tr><td> 0.6      </td><td>0.33333333</td><td>0.16568964</td><td>0.16374488</td><td>465       </td></tr>\n",
       "\t<tr><td> 0.1      </td><td>0.44866032</td><td>0.22649477</td><td>0.21403421</td><td>582       </td></tr>\n",
       "\t<tr><td> 0.4      </td><td>0.17720307</td><td>0.07475975</td><td>0.07460465</td><td>588       </td></tr>\n",
       "\t<tr><td>-0.1      </td><td>0.20506119</td><td>0.09527556</td><td>0.08859422</td><td>256       </td></tr>\n",
       "\t<tr><td> 0.5      </td><td>0.32000000</td><td>0.16369284</td><td>0.15417066</td><td>565       </td></tr>\n",
       "\t<tr><td> 0.7      </td><td>0.26666667</td><td>0.13491454</td><td>0.12902562</td><td>310       </td></tr>\n",
       "\t<tr><td> 0.1      </td><td>0.20110936</td><td>0.09745135</td><td>0.09185071</td><td>582       </td></tr>\n",
       "\t<tr><td> 0.2      </td><td>0.20835095</td><td>0.09823592</td><td>0.09604902</td><td>527       </td></tr>\n",
       "\t<tr><td> 0.7      </td><td>0.38888889</td><td>0.19750735</td><td>0.18771288</td><td>310       </td></tr>\n",
       "\t<tr><td> 0.2      </td><td>0.32040230</td><td>0.15993028</td><td>0.15107936</td><td>527       </td></tr>\n",
       "\t<tr><td> 0.4      </td><td>0.16413043</td><td>0.05358161</td><td>0.07785430</td><td>588       </td></tr>\n",
       "\t<tr><td> 0.0      </td><td>0.34858277</td><td>0.16248120</td><td>0.15108524</td><td>482       </td></tr>\n",
       "\t<tr><td> 0.6      </td><td>0.15094340</td><td>0.07194473</td><td>0.08106620</td><td>465       </td></tr>\n",
       "\t<tr><td> 0.1      </td><td>0.12040100</td><td>0.05991686</td><td>0.05567079</td><td>582       </td></tr>\n",
       "\t<tr><td> 0.2      </td><td>0.34480791</td><td>0.16508490</td><td>0.15592255</td><td>527       </td></tr>\n",
       "\t<tr><td> 0.7      </td><td>0.43333333</td><td>0.22398558</td><td>0.20759478</td><td>310       </td></tr>\n",
       "\t<tr><td> 0.4      </td><td>0.32075472</td><td>0.17257643</td><td>0.15728777</td><td>588       </td></tr>\n",
       "\t<tr><td> 0.3      </td><td>0.30909091</td><td>0.16090357</td><td>0.14744633</td><td>499       </td></tr>\n",
       "\t<tr><td> 0.1      </td><td>0.27953297</td><td>0.13885449</td><td>0.13381997</td><td>582       </td></tr>\n",
       "\t<tr><td> 0.0      </td><td>0.29606763</td><td>0.13479843</td><td>0.13008769</td><td>482       </td></tr>\n",
       "\t<tr><td> 0.4      </td><td>0.23785104</td><td>0.11482215</td><td>0.10808960</td><td>588       </td></tr>\n",
       "\t<tr><td> 0.8      </td><td>0.33333333</td><td>0.17058194</td><td>0.16027922</td><td>181       </td></tr>\n",
       "\t<tr><td> 0.6      </td><td>0.28571429</td><td>0.15121966</td><td>0.13963173</td><td>465       </td></tr>\n",
       "\t<tr><td> 2.1      </td><td>0.02222222</td><td>0.00475590</td><td>0.01329816</td><td>  3       </td></tr>\n",
       "\t<tr><td>⋮</td><td>⋮</td><td>⋮</td><td>⋮</td><td>⋮</td></tr>\n",
       "\t<tr><td> 0.5      </td><td>0.3018868 </td><td>0.15688118</td><td>0.14739854</td><td>565       </td></tr>\n",
       "\t<tr><td> 0.2      </td><td>0.3822197 </td><td>0.19801186</td><td>0.18424038</td><td>527       </td></tr>\n",
       "\t<tr><td> 0.5      </td><td>0.2647059 </td><td>0.13296237</td><td>0.12952587</td><td>565       </td></tr>\n",
       "\t<tr><td> 0.0      </td><td>0.2972619 </td><td>0.12715710</td><td>0.11949204</td><td>482       </td></tr>\n",
       "\t<tr><td> 0.9      </td><td>0.1142857 </td><td>0.05160787</td><td>0.05788140</td><td>120       </td></tr>\n",
       "\t<tr><td> 0.3      </td><td>0.1402306 </td><td>0.05852212</td><td>0.06468198</td><td>499       </td></tr>\n",
       "\t<tr><td> 0.0      </td><td>0.2732876 </td><td>0.13697950</td><td>0.12728707</td><td>482       </td></tr>\n",
       "\t<tr><td> 0.6      </td><td>0.2391304 </td><td>0.11743244</td><td>0.11151714</td><td>465       </td></tr>\n",
       "\t<tr><td> 0.7      </td><td>0.1496267 </td><td>0.05726797</td><td>0.06508188</td><td>310       </td></tr>\n",
       "\t<tr><td> 1.5      </td><td>0.1538462 </td><td>0.07624999</td><td>0.07138699</td><td> 13       </td></tr>\n",
       "\t<tr><td> 0.9      </td><td>0.1935484 </td><td>0.10069581</td><td>0.09386215</td><td>120       </td></tr>\n",
       "\t<tr><td>-0.1      </td><td>0.1915560 </td><td>0.08926024</td><td>0.08143349</td><td>256       </td></tr>\n",
       "\t<tr><td> 0.4      </td><td>0.2881356 </td><td>0.14627709</td><td>0.14341069</td><td>588       </td></tr>\n",
       "\t<tr><td> 0.5      </td><td>0.2666667 </td><td>0.13739444</td><td>0.12923186</td><td>565       </td></tr>\n",
       "\t<tr><td> 1.1      </td><td>0.0625000 </td><td>0.01779885</td><td>0.03995669</td><td> 61       </td></tr>\n",
       "\t<tr><td> 1.0      </td><td>0.4347826 </td><td>0.22487900</td><td>0.21161610</td><td> 96       </td></tr>\n",
       "\t<tr><td> 0.1      </td><td>0.4463541 </td><td>0.21654499</td><td>0.20258387</td><td>582       </td></tr>\n",
       "\t<tr><td> 0.2      </td><td>0.3644483 </td><td>0.18377963</td><td>0.17216182</td><td>527       </td></tr>\n",
       "\t<tr><td> 0.8      </td><td>0.2916667 </td><td>0.15678239</td><td>0.14257903</td><td>181       </td></tr>\n",
       "\t<tr><td> 0.9      </td><td>0.2666667 </td><td>0.13401930</td><td>0.13160829</td><td>120       </td></tr>\n",
       "\t<tr><td> 0.4      </td><td>0.5217391 </td><td>0.27293416</td><td>0.25753913</td><td>588       </td></tr>\n",
       "\t<tr><td> 1.0      </td><td>0.1568627 </td><td>0.08159566</td><td>0.07535142</td><td> 96       </td></tr>\n",
       "\t<tr><td> 0.4      </td><td>0.2173913 </td><td>0.10749935</td><td>0.10183831</td><td>588       </td></tr>\n",
       "\t<tr><td> 0.2      </td><td>0.4044295 </td><td>0.20118415</td><td>0.19079432</td><td>527       </td></tr>\n",
       "\t<tr><td> 0.3      </td><td>0.3265306 </td><td>0.16945281</td><td>0.15953210</td><td>499       </td></tr>\n",
       "\t<tr><td> 0.5      </td><td>0.3448276 </td><td>0.17548989</td><td>0.16875303</td><td>565       </td></tr>\n",
       "\t<tr><td> 0.0      </td><td>0.2598367 </td><td>0.13466190</td><td>0.12610073</td><td>482       </td></tr>\n",
       "\t<tr><td> 0.5      </td><td>0.8181818 </td><td>0.42572055</td><td>0.40117464</td><td>565       </td></tr>\n",
       "\t<tr><td>-0.1      </td><td>0.3094198 </td><td>0.14152937</td><td>0.13265017</td><td>256       </td></tr>\n",
       "\t<tr><td> 0.6      </td><td>0.2083333 </td><td>0.10453238</td><td>0.10315582</td><td>465       </td></tr>\n",
       "</tbody>\n",
       "</table>\n"
      ],
      "text/latex": [
       "\\begin{tabular}{r|lllll}\n",
       " ls.range & ls.informedness & ls.meanJ & ls.sdJ & n\\\\\n",
       "\\hline\n",
       "\t  0.0       & 0.35916593 & 0.14512739 & 0.13173527 & 482       \\\\\n",
       "\t  0.5       & 0.21428571 & 0.10869886 & 0.10508109 & 565       \\\\\n",
       "\t  0.8       & 0.24000000 & 0.12024159 & 0.11493342 & 181       \\\\\n",
       "\t  0.1       & 0.18510379 & 0.08996978 & 0.08976647 & 582       \\\\\n",
       "\t  1.1       & 0.11428571 & 0.04556924 & 0.06500177 &  61       \\\\\n",
       "\t  0.0       & 0.22582415 & 0.10094654 & 0.09740270 & 482       \\\\\n",
       "\t  0.6       & 0.33333333 & 0.16568964 & 0.16374488 & 465       \\\\\n",
       "\t  0.1       & 0.44866032 & 0.22649477 & 0.21403421 & 582       \\\\\n",
       "\t  0.4       & 0.17720307 & 0.07475975 & 0.07460465 & 588       \\\\\n",
       "\t -0.1       & 0.20506119 & 0.09527556 & 0.08859422 & 256       \\\\\n",
       "\t  0.5       & 0.32000000 & 0.16369284 & 0.15417066 & 565       \\\\\n",
       "\t  0.7       & 0.26666667 & 0.13491454 & 0.12902562 & 310       \\\\\n",
       "\t  0.1       & 0.20110936 & 0.09745135 & 0.09185071 & 582       \\\\\n",
       "\t  0.2       & 0.20835095 & 0.09823592 & 0.09604902 & 527       \\\\\n",
       "\t  0.7       & 0.38888889 & 0.19750735 & 0.18771288 & 310       \\\\\n",
       "\t  0.2       & 0.32040230 & 0.15993028 & 0.15107936 & 527       \\\\\n",
       "\t  0.4       & 0.16413043 & 0.05358161 & 0.07785430 & 588       \\\\\n",
       "\t  0.0       & 0.34858277 & 0.16248120 & 0.15108524 & 482       \\\\\n",
       "\t  0.6       & 0.15094340 & 0.07194473 & 0.08106620 & 465       \\\\\n",
       "\t  0.1       & 0.12040100 & 0.05991686 & 0.05567079 & 582       \\\\\n",
       "\t  0.2       & 0.34480791 & 0.16508490 & 0.15592255 & 527       \\\\\n",
       "\t  0.7       & 0.43333333 & 0.22398558 & 0.20759478 & 310       \\\\\n",
       "\t  0.4       & 0.32075472 & 0.17257643 & 0.15728777 & 588       \\\\\n",
       "\t  0.3       & 0.30909091 & 0.16090357 & 0.14744633 & 499       \\\\\n",
       "\t  0.1       & 0.27953297 & 0.13885449 & 0.13381997 & 582       \\\\\n",
       "\t  0.0       & 0.29606763 & 0.13479843 & 0.13008769 & 482       \\\\\n",
       "\t  0.4       & 0.23785104 & 0.11482215 & 0.10808960 & 588       \\\\\n",
       "\t  0.8       & 0.33333333 & 0.17058194 & 0.16027922 & 181       \\\\\n",
       "\t  0.6       & 0.28571429 & 0.15121966 & 0.13963173 & 465       \\\\\n",
       "\t  2.1       & 0.02222222 & 0.00475590 & 0.01329816 &   3       \\\\\n",
       "\t ⋮ & ⋮ & ⋮ & ⋮ & ⋮\\\\\n",
       "\t  0.5       & 0.3018868  & 0.15688118 & 0.14739854 & 565       \\\\\n",
       "\t  0.2       & 0.3822197  & 0.19801186 & 0.18424038 & 527       \\\\\n",
       "\t  0.5       & 0.2647059  & 0.13296237 & 0.12952587 & 565       \\\\\n",
       "\t  0.0       & 0.2972619  & 0.12715710 & 0.11949204 & 482       \\\\\n",
       "\t  0.9       & 0.1142857  & 0.05160787 & 0.05788140 & 120       \\\\\n",
       "\t  0.3       & 0.1402306  & 0.05852212 & 0.06468198 & 499       \\\\\n",
       "\t  0.0       & 0.2732876  & 0.13697950 & 0.12728707 & 482       \\\\\n",
       "\t  0.6       & 0.2391304  & 0.11743244 & 0.11151714 & 465       \\\\\n",
       "\t  0.7       & 0.1496267  & 0.05726797 & 0.06508188 & 310       \\\\\n",
       "\t  1.5       & 0.1538462  & 0.07624999 & 0.07138699 &  13       \\\\\n",
       "\t  0.9       & 0.1935484  & 0.10069581 & 0.09386215 & 120       \\\\\n",
       "\t -0.1       & 0.1915560  & 0.08926024 & 0.08143349 & 256       \\\\\n",
       "\t  0.4       & 0.2881356  & 0.14627709 & 0.14341069 & 588       \\\\\n",
       "\t  0.5       & 0.2666667  & 0.13739444 & 0.12923186 & 565       \\\\\n",
       "\t  1.1       & 0.0625000  & 0.01779885 & 0.03995669 &  61       \\\\\n",
       "\t  1.0       & 0.4347826  & 0.22487900 & 0.21161610 &  96       \\\\\n",
       "\t  0.1       & 0.4463541  & 0.21654499 & 0.20258387 & 582       \\\\\n",
       "\t  0.2       & 0.3644483  & 0.18377963 & 0.17216182 & 527       \\\\\n",
       "\t  0.8       & 0.2916667  & 0.15678239 & 0.14257903 & 181       \\\\\n",
       "\t  0.9       & 0.2666667  & 0.13401930 & 0.13160829 & 120       \\\\\n",
       "\t  0.4       & 0.5217391  & 0.27293416 & 0.25753913 & 588       \\\\\n",
       "\t  1.0       & 0.1568627  & 0.08159566 & 0.07535142 &  96       \\\\\n",
       "\t  0.4       & 0.2173913  & 0.10749935 & 0.10183831 & 588       \\\\\n",
       "\t  0.2       & 0.4044295  & 0.20118415 & 0.19079432 & 527       \\\\\n",
       "\t  0.3       & 0.3265306  & 0.16945281 & 0.15953210 & 499       \\\\\n",
       "\t  0.5       & 0.3448276  & 0.17548989 & 0.16875303 & 565       \\\\\n",
       "\t  0.0       & 0.2598367  & 0.13466190 & 0.12610073 & 482       \\\\\n",
       "\t  0.5       & 0.8181818  & 0.42572055 & 0.40117464 & 565       \\\\\n",
       "\t -0.1       & 0.3094198  & 0.14152937 & 0.13265017 & 256       \\\\\n",
       "\t  0.6       & 0.2083333  & 0.10453238 & 0.10315582 & 465       \\\\\n",
       "\\end{tabular}\n"
      ],
      "text/markdown": [
       "\n",
       "ls.range | ls.informedness | ls.meanJ | ls.sdJ | n | \n",
       "|---|---|---|---|---|---|---|---|---|---|---|---|---|---|---|---|---|---|---|---|---|---|---|---|---|---|---|---|---|---|---|---|---|---|---|---|---|---|---|---|---|---|---|---|---|---|---|---|---|---|---|---|---|---|---|---|---|---|---|---|---|\n",
       "|  0.0       | 0.35916593 | 0.14512739 | 0.13173527 | 482        | \n",
       "|  0.5       | 0.21428571 | 0.10869886 | 0.10508109 | 565        | \n",
       "|  0.8       | 0.24000000 | 0.12024159 | 0.11493342 | 181        | \n",
       "|  0.1       | 0.18510379 | 0.08996978 | 0.08976647 | 582        | \n",
       "|  1.1       | 0.11428571 | 0.04556924 | 0.06500177 |  61        | \n",
       "|  0.0       | 0.22582415 | 0.10094654 | 0.09740270 | 482        | \n",
       "|  0.6       | 0.33333333 | 0.16568964 | 0.16374488 | 465        | \n",
       "|  0.1       | 0.44866032 | 0.22649477 | 0.21403421 | 582        | \n",
       "|  0.4       | 0.17720307 | 0.07475975 | 0.07460465 | 588        | \n",
       "| -0.1       | 0.20506119 | 0.09527556 | 0.08859422 | 256        | \n",
       "|  0.5       | 0.32000000 | 0.16369284 | 0.15417066 | 565        | \n",
       "|  0.7       | 0.26666667 | 0.13491454 | 0.12902562 | 310        | \n",
       "|  0.1       | 0.20110936 | 0.09745135 | 0.09185071 | 582        | \n",
       "|  0.2       | 0.20835095 | 0.09823592 | 0.09604902 | 527        | \n",
       "|  0.7       | 0.38888889 | 0.19750735 | 0.18771288 | 310        | \n",
       "|  0.2       | 0.32040230 | 0.15993028 | 0.15107936 | 527        | \n",
       "|  0.4       | 0.16413043 | 0.05358161 | 0.07785430 | 588        | \n",
       "|  0.0       | 0.34858277 | 0.16248120 | 0.15108524 | 482        | \n",
       "|  0.6       | 0.15094340 | 0.07194473 | 0.08106620 | 465        | \n",
       "|  0.1       | 0.12040100 | 0.05991686 | 0.05567079 | 582        | \n",
       "|  0.2       | 0.34480791 | 0.16508490 | 0.15592255 | 527        | \n",
       "|  0.7       | 0.43333333 | 0.22398558 | 0.20759478 | 310        | \n",
       "|  0.4       | 0.32075472 | 0.17257643 | 0.15728777 | 588        | \n",
       "|  0.3       | 0.30909091 | 0.16090357 | 0.14744633 | 499        | \n",
       "|  0.1       | 0.27953297 | 0.13885449 | 0.13381997 | 582        | \n",
       "|  0.0       | 0.29606763 | 0.13479843 | 0.13008769 | 482        | \n",
       "|  0.4       | 0.23785104 | 0.11482215 | 0.10808960 | 588        | \n",
       "|  0.8       | 0.33333333 | 0.17058194 | 0.16027922 | 181        | \n",
       "|  0.6       | 0.28571429 | 0.15121966 | 0.13963173 | 465        | \n",
       "|  2.1       | 0.02222222 | 0.00475590 | 0.01329816 |   3        | \n",
       "| ⋮ | ⋮ | ⋮ | ⋮ | ⋮ | \n",
       "|  0.5       | 0.3018868  | 0.15688118 | 0.14739854 | 565        | \n",
       "|  0.2       | 0.3822197  | 0.19801186 | 0.18424038 | 527        | \n",
       "|  0.5       | 0.2647059  | 0.13296237 | 0.12952587 | 565        | \n",
       "|  0.0       | 0.2972619  | 0.12715710 | 0.11949204 | 482        | \n",
       "|  0.9       | 0.1142857  | 0.05160787 | 0.05788140 | 120        | \n",
       "|  0.3       | 0.1402306  | 0.05852212 | 0.06468198 | 499        | \n",
       "|  0.0       | 0.2732876  | 0.13697950 | 0.12728707 | 482        | \n",
       "|  0.6       | 0.2391304  | 0.11743244 | 0.11151714 | 465        | \n",
       "|  0.7       | 0.1496267  | 0.05726797 | 0.06508188 | 310        | \n",
       "|  1.5       | 0.1538462  | 0.07624999 | 0.07138699 |  13        | \n",
       "|  0.9       | 0.1935484  | 0.10069581 | 0.09386215 | 120        | \n",
       "| -0.1       | 0.1915560  | 0.08926024 | 0.08143349 | 256        | \n",
       "|  0.4       | 0.2881356  | 0.14627709 | 0.14341069 | 588        | \n",
       "|  0.5       | 0.2666667  | 0.13739444 | 0.12923186 | 565        | \n",
       "|  1.1       | 0.0625000  | 0.01779885 | 0.03995669 |  61        | \n",
       "|  1.0       | 0.4347826  | 0.22487900 | 0.21161610 |  96        | \n",
       "|  0.1       | 0.4463541  | 0.21654499 | 0.20258387 | 582        | \n",
       "|  0.2       | 0.3644483  | 0.18377963 | 0.17216182 | 527        | \n",
       "|  0.8       | 0.2916667  | 0.15678239 | 0.14257903 | 181        | \n",
       "|  0.9       | 0.2666667  | 0.13401930 | 0.13160829 | 120        | \n",
       "|  0.4       | 0.5217391  | 0.27293416 | 0.25753913 | 588        | \n",
       "|  1.0       | 0.1568627  | 0.08159566 | 0.07535142 |  96        | \n",
       "|  0.4       | 0.2173913  | 0.10749935 | 0.10183831 | 588        | \n",
       "|  0.2       | 0.4044295  | 0.20118415 | 0.19079432 | 527        | \n",
       "|  0.3       | 0.3265306  | 0.16945281 | 0.15953210 | 499        | \n",
       "|  0.5       | 0.3448276  | 0.17548989 | 0.16875303 | 565        | \n",
       "|  0.0       | 0.2598367  | 0.13466190 | 0.12610073 | 482        | \n",
       "|  0.5       | 0.8181818  | 0.42572055 | 0.40117464 | 565        | \n",
       "| -0.1       | 0.3094198  | 0.14152937 | 0.13265017 | 256        | \n",
       "|  0.6       | 0.2083333  | 0.10453238 | 0.10315582 | 465        | \n",
       "\n",
       "\n"
      ],
      "text/plain": [
       "     ls.range ls.informedness ls.meanJ   ls.sdJ     n  \n",
       "1     0.0     0.35916593      0.14512739 0.13173527 482\n",
       "2     0.5     0.21428571      0.10869886 0.10508109 565\n",
       "3     0.8     0.24000000      0.12024159 0.11493342 181\n",
       "4     0.1     0.18510379      0.08996978 0.08976647 582\n",
       "5     1.1     0.11428571      0.04556924 0.06500177  61\n",
       "6     0.0     0.22582415      0.10094654 0.09740270 482\n",
       "7     0.6     0.33333333      0.16568964 0.16374488 465\n",
       "8     0.1     0.44866032      0.22649477 0.21403421 582\n",
       "9     0.4     0.17720307      0.07475975 0.07460465 588\n",
       "10   -0.1     0.20506119      0.09527556 0.08859422 256\n",
       "11    0.5     0.32000000      0.16369284 0.15417066 565\n",
       "12    0.7     0.26666667      0.13491454 0.12902562 310\n",
       "13    0.1     0.20110936      0.09745135 0.09185071 582\n",
       "14    0.2     0.20835095      0.09823592 0.09604902 527\n",
       "15    0.7     0.38888889      0.19750735 0.18771288 310\n",
       "16    0.2     0.32040230      0.15993028 0.15107936 527\n",
       "17    0.4     0.16413043      0.05358161 0.07785430 588\n",
       "18    0.0     0.34858277      0.16248120 0.15108524 482\n",
       "19    0.6     0.15094340      0.07194473 0.08106620 465\n",
       "20    0.1     0.12040100      0.05991686 0.05567079 582\n",
       "21    0.2     0.34480791      0.16508490 0.15592255 527\n",
       "22    0.7     0.43333333      0.22398558 0.20759478 310\n",
       "23    0.4     0.32075472      0.17257643 0.15728777 588\n",
       "24    0.3     0.30909091      0.16090357 0.14744633 499\n",
       "25    0.1     0.27953297      0.13885449 0.13381997 582\n",
       "26    0.0     0.29606763      0.13479843 0.13008769 482\n",
       "27    0.4     0.23785104      0.11482215 0.10808960 588\n",
       "28    0.8     0.33333333      0.17058194 0.16027922 181\n",
       "29    0.6     0.28571429      0.15121966 0.13963173 465\n",
       "30    2.1     0.02222222      0.00475590 0.01329816   3\n",
       "⋮    ⋮        ⋮               ⋮          ⋮          ⋮  \n",
       "4971  0.5     0.3018868       0.15688118 0.14739854 565\n",
       "4972  0.2     0.3822197       0.19801186 0.18424038 527\n",
       "4973  0.5     0.2647059       0.13296237 0.12952587 565\n",
       "4974  0.0     0.2972619       0.12715710 0.11949204 482\n",
       "4975  0.9     0.1142857       0.05160787 0.05788140 120\n",
       "4976  0.3     0.1402306       0.05852212 0.06468198 499\n",
       "4977  0.0     0.2732876       0.13697950 0.12728707 482\n",
       "4978  0.6     0.2391304       0.11743244 0.11151714 465\n",
       "4979  0.7     0.1496267       0.05726797 0.06508188 310\n",
       "4980  1.5     0.1538462       0.07624999 0.07138699  13\n",
       "4981  0.9     0.1935484       0.10069581 0.09386215 120\n",
       "4982 -0.1     0.1915560       0.08926024 0.08143349 256\n",
       "4983  0.4     0.2881356       0.14627709 0.14341069 588\n",
       "4984  0.5     0.2666667       0.13739444 0.12923186 565\n",
       "4985  1.1     0.0625000       0.01779885 0.03995669  61\n",
       "4986  1.0     0.4347826       0.22487900 0.21161610  96\n",
       "4987  0.1     0.4463541       0.21654499 0.20258387 582\n",
       "4988  0.2     0.3644483       0.18377963 0.17216182 527\n",
       "4989  0.8     0.2916667       0.15678239 0.14257903 181\n",
       "4990  0.9     0.2666667       0.13401930 0.13160829 120\n",
       "4991  0.4     0.5217391       0.27293416 0.25753913 588\n",
       "4992  1.0     0.1568627       0.08159566 0.07535142  96\n",
       "4993  0.4     0.2173913       0.10749935 0.10183831 588\n",
       "4994  0.2     0.4044295       0.20118415 0.19079432 527\n",
       "4995  0.3     0.3265306       0.16945281 0.15953210 499\n",
       "4996  0.5     0.3448276       0.17548989 0.16875303 565\n",
       "4997  0.0     0.2598367       0.13466190 0.12610073 482\n",
       "4998  0.5     0.8181818       0.42572055 0.40117464 565\n",
       "4999 -0.1     0.3094198       0.14152937 0.13265017 256\n",
       "5000  0.6     0.2083333       0.10453238 0.10315582 465"
      ]
     },
     "metadata": {},
     "output_type": "display_data"
    }
   ],
   "source": [
    "lsmetrics %>% group_by(ls.range) %>% mutate(n=n())"
   ]
  },
  {
   "cell_type": "code",
   "execution_count": 245,
   "metadata": {},
   "outputs": [],
   "source": [
    "load('~/notebooks/dissertation/artifacts/rq1/maxJ.RData')"
   ]
  },
  {
   "cell_type": "code",
   "execution_count": 248,
   "metadata": {},
   "outputs": [
    {
     "data": {
      "text/html": [
       "<table>\n",
       "<thead><tr><th scope=col>ls</th><th scope=col>n</th></tr></thead>\n",
       "<tbody>\n",
       "\t<tr><td>-0.5</td><td>  5 </td></tr>\n",
       "\t<tr><td>-0.4</td><td> 23 </td></tr>\n",
       "\t<tr><td>-0.3</td><td> 53 </td></tr>\n",
       "\t<tr><td>-0.2</td><td> 17 </td></tr>\n",
       "\t<tr><td>-0.1</td><td>256 </td></tr>\n",
       "\t<tr><td> 0.0</td><td>482 </td></tr>\n",
       "\t<tr><td> 0.1</td><td>582 </td></tr>\n",
       "\t<tr><td> 0.2</td><td>527 </td></tr>\n",
       "\t<tr><td> 0.3</td><td>499 </td></tr>\n",
       "\t<tr><td> 0.4</td><td>588 </td></tr>\n",
       "\t<tr><td> 0.5</td><td>565 </td></tr>\n",
       "\t<tr><td> 0.6</td><td>465 </td></tr>\n",
       "\t<tr><td> 0.7</td><td>310 </td></tr>\n",
       "\t<tr><td> 0.8</td><td>181 </td></tr>\n",
       "\t<tr><td> 0.9</td><td>120 </td></tr>\n",
       "\t<tr><td> 1.0</td><td> 96 </td></tr>\n",
       "\t<tr><td> 1.1</td><td> 61 </td></tr>\n",
       "\t<tr><td> 1.2</td><td> 48 </td></tr>\n",
       "\t<tr><td> 1.3</td><td> 31 </td></tr>\n",
       "\t<tr><td> 1.4</td><td> 28 </td></tr>\n",
       "\t<tr><td> 1.5</td><td> 13 </td></tr>\n",
       "\t<tr><td> 1.6</td><td> 11 </td></tr>\n",
       "\t<tr><td> 1.7</td><td>  9 </td></tr>\n",
       "\t<tr><td> 1.8</td><td>  8 </td></tr>\n",
       "\t<tr><td> 1.9</td><td>  7 </td></tr>\n",
       "\t<tr><td> 2.0</td><td>  7 </td></tr>\n",
       "\t<tr><td> 2.1</td><td>  3 </td></tr>\n",
       "\t<tr><td> 2.2</td><td>  1 </td></tr>\n",
       "\t<tr><td> 2.4</td><td>  2 </td></tr>\n",
       "\t<tr><td> 2.6</td><td>  1 </td></tr>\n",
       "\t<tr><td> 2.7</td><td>  1 </td></tr>\n",
       "</tbody>\n",
       "</table>\n"
      ],
      "text/latex": [
       "\\begin{tabular}{r|ll}\n",
       " ls & n\\\\\n",
       "\\hline\n",
       "\t -0.5 &   5 \\\\\n",
       "\t -0.4 &  23 \\\\\n",
       "\t -0.3 &  53 \\\\\n",
       "\t -0.2 &  17 \\\\\n",
       "\t -0.1 & 256 \\\\\n",
       "\t  0.0 & 482 \\\\\n",
       "\t  0.1 & 582 \\\\\n",
       "\t  0.2 & 527 \\\\\n",
       "\t  0.3 & 499 \\\\\n",
       "\t  0.4 & 588 \\\\\n",
       "\t  0.5 & 565 \\\\\n",
       "\t  0.6 & 465 \\\\\n",
       "\t  0.7 & 310 \\\\\n",
       "\t  0.8 & 181 \\\\\n",
       "\t  0.9 & 120 \\\\\n",
       "\t  1.0 &  96 \\\\\n",
       "\t  1.1 &  61 \\\\\n",
       "\t  1.2 &  48 \\\\\n",
       "\t  1.3 &  31 \\\\\n",
       "\t  1.4 &  28 \\\\\n",
       "\t  1.5 &  13 \\\\\n",
       "\t  1.6 &  11 \\\\\n",
       "\t  1.7 &   9 \\\\\n",
       "\t  1.8 &   8 \\\\\n",
       "\t  1.9 &   7 \\\\\n",
       "\t  2.0 &   7 \\\\\n",
       "\t  2.1 &   3 \\\\\n",
       "\t  2.2 &   1 \\\\\n",
       "\t  2.4 &   2 \\\\\n",
       "\t  2.6 &   1 \\\\\n",
       "\t  2.7 &   1 \\\\\n",
       "\\end{tabular}\n"
      ],
      "text/markdown": [
       "\n",
       "ls | n | \n",
       "|---|---|---|---|---|---|---|---|---|---|---|---|---|---|---|---|---|---|---|---|---|---|---|---|---|---|---|---|---|---|---|\n",
       "| -0.5 |   5  | \n",
       "| -0.4 |  23  | \n",
       "| -0.3 |  53  | \n",
       "| -0.2 |  17  | \n",
       "| -0.1 | 256  | \n",
       "|  0.0 | 482  | \n",
       "|  0.1 | 582  | \n",
       "|  0.2 | 527  | \n",
       "|  0.3 | 499  | \n",
       "|  0.4 | 588  | \n",
       "|  0.5 | 565  | \n",
       "|  0.6 | 465  | \n",
       "|  0.7 | 310  | \n",
       "|  0.8 | 181  | \n",
       "|  0.9 | 120  | \n",
       "|  1.0 |  96  | \n",
       "|  1.1 |  61  | \n",
       "|  1.2 |  48  | \n",
       "|  1.3 |  31  | \n",
       "|  1.4 |  28  | \n",
       "|  1.5 |  13  | \n",
       "|  1.6 |  11  | \n",
       "|  1.7 |   9  | \n",
       "|  1.8 |   8  | \n",
       "|  1.9 |   7  | \n",
       "|  2.0 |   7  | \n",
       "|  2.1 |   3  | \n",
       "|  2.2 |   1  | \n",
       "|  2.4 |   2  | \n",
       "|  2.6 |   1  | \n",
       "|  2.7 |   1  | \n",
       "\n",
       "\n"
      ],
      "text/plain": [
       "   ls   n  \n",
       "1  -0.5   5\n",
       "2  -0.4  23\n",
       "3  -0.3  53\n",
       "4  -0.2  17\n",
       "5  -0.1 256\n",
       "6   0.0 482\n",
       "7   0.1 582\n",
       "8   0.2 527\n",
       "9   0.3 499\n",
       "10  0.4 588\n",
       "11  0.5 565\n",
       "12  0.6 465\n",
       "13  0.7 310\n",
       "14  0.8 181\n",
       "15  0.9 120\n",
       "16  1.0  96\n",
       "17  1.1  61\n",
       "18  1.2  48\n",
       "19  1.3  31\n",
       "20  1.4  28\n",
       "21  1.5  13\n",
       "22  1.6  11\n",
       "23  1.7   9\n",
       "24  1.8   8\n",
       "25  1.9   7\n",
       "26  2.0   7\n",
       "27  2.1   3\n",
       "28  2.2   1\n",
       "29  2.4   2\n",
       "30  2.6   1\n",
       "31  2.7   1"
      ]
     },
     "metadata": {},
     "output_type": "display_data"
    }
   ],
   "source": [
    "maxJ %>% group_by(ls) %>% summarise(n=n())"
   ]
  },
  {
   "cell_type": "code",
   "execution_count": null,
   "metadata": {},
   "outputs": [],
   "source": []
  }
 ],
 "metadata": {
  "kernelspec": {
   "display_name": "R",
   "language": "R",
   "name": "ir"
  },
  "language_info": {
   "codemirror_mode": "r",
   "file_extension": ".r",
   "mimetype": "text/x-r-source",
   "name": "R",
   "pygments_lexer": "r",
   "version": "3.6.0"
  }
 },
 "nbformat": 4,
 "nbformat_minor": 2
}
