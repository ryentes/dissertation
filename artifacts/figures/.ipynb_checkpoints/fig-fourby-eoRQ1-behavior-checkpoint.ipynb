{
 "cells": [
  {
   "cell_type": "code",
   "execution_count": 6,
   "metadata": {},
   "outputs": [],
   "source": [
    "library(rdydisstools)\n",
    "library(ggplot2)\n",
    "library(svglite)\n",
    "library(glue)\n",
    "library(dplyr)\n",
    "library(gridExtra)\n",
    "library(grid)\n",
    "setwd('~/notebooks/dissertation')\n",
    "loadpackages(c('doParallel', 'foreach', 'logging', 'glue', 'grid', 'gridExtra', 'dplyr', 'ggplot2'))\n",
    "df <- load('artifacts/rq1/maxJ.RData')\n",
    "thisdir <- '~/notebooks/dissertation/artifacts/figures/'"
   ]
  },
  {
   "cell_type": "code",
   "execution_count": 7,
   "metadata": {},
   "outputs": [],
   "source": [
    "set.seed(9045)\n",
    "s4 <- sample(1:5000, 4)"
   ]
  },
  {
   "cell_type": "code",
   "execution_count": 8,
   "metadata": {},
   "outputs": [
    {
     "ename": "ERROR",
     "evalue": "Error in start:end: argument of length 0\n",
     "output_type": "error",
     "traceback": [
      "Error in start:end: argument of length 0\nTraceback:\n",
      "1. plotBehavior(df, method = \"eoRQ1\", min = -3, max = 3) %>% +annotate(\"text\", \n .     x = -2.9, y = max(.$data$informedness), label = paste(lab), \n .     color = \"black\")",
      "2. eval(lhs, parent, parent)",
      "3. eval(lhs, parent, parent)",
      "4. plotBehavior(df, method = \"eoRQ1\", min = -3, max = 3)",
      "5. eoRQ1(x, ...)",
      "6. dispatchRQ1(rcdf, what = \"evenodd\", from = args$min, to = args$max, \n .     by = 0.1, i = i)",
      "7. evenodd(df, truth, crModel, what, ...)",
      "8. careless::evenodd(df, args$factors)",
      "9. x[i, start:end]",
      "10. `[.data.frame`(x, i, start:end)"
     ]
    }
   ],
   "source": [
    "plots <- list()\n",
    "label <- c('A', 'B', 'C', 'D')\n",
    "c = 1\n",
    "for(i in s4){\n",
    "    lab = label[c]\n",
    "    load(glue('data/simsample{i}.RData'))\n",
    "    plots[[lab]] = plotBehavior(df, method='eoRQ1', min=-3, max=3) %>%  \n",
    "    + annotate(\"text\", x = -2.9, y=max(.$data$informedness), label = paste(lab), color='black')\n",
    "    c = c + 1\n",
    "}"
   ]
  },
  {
   "cell_type": "code",
   "execution_count": 4,
   "metadata": {},
   "outputs": [
    {
     "name": "stderr",
     "output_type": "stream",
     "text": [
      "Warning message in matrix(seq(1, cols * ceiling(numPlots/cols)), ncol = cols, nrow = ceiling(numPlots/cols)):\n",
      "“data length exceeds size of matrix”Warning message in max(positions$r):\n",
      "“no non-missing arguments to max; returning -Inf”Warning message in max(positions$b):\n",
      "“no non-missing arguments to max; returning -Inf”"
     ]
    },
    {
     "ename": "ERROR",
     "evalue": "Error in rep(1, ncol): invalid 'times' argument\n",
     "output_type": "error",
     "traceback": [
      "Error in rep(1, ncol): invalid 'times' argument\nTraceback:\n",
      "1. gridmap(plotlist = plots, cols = 2)",
      "2. grid.arrange(grobs = plots, layout_matrix = layout)",
      "3. arrangeGrob(...)",
      "4. unit(rep(1, ncol), \"null\")"
     ]
    }
   ],
   "source": [
    "fourby <- gridmap(plotlist=plots, cols=2)\n",
    "ggsave(paste0(thisdir, 'images/eofourbyrq1.svg'), fourby, device='svg')"
   ]
  },
  {
   "cell_type": "code",
   "execution_count": 5,
   "metadata": {},
   "outputs": [
    {
     "name": "stderr",
     "output_type": "stream",
     "text": [
      "Skipping install of 'rdydisstools' from a github remote, the SHA1 (50e9b5b6) has not changed since last install.\n",
      "  Use `force = TRUE` to force installation\n"
     ]
    }
   ],
   "source": [
    "devtools::install_github('ryentes/rdy-dissertation-tools')"
   ]
  },
  {
   "cell_type": "code",
   "execution_count": 25,
   "metadata": {},
   "outputs": [],
   "source": [
    "mp2 <- function(..., plotlist=NULL, file, cols=1, layout=NULL) {\n",
    "  library(grid)\n",
    "  \n",
    "  # Make a list from the ... arguments and plotlist\n",
    "  plots <- c(list(...), plotlist)\n",
    "  \n",
    "  numPlots = length(plots)\n",
    "  \n",
    "  # If layout is NULL, then use 'cols' to determine layout\n",
    "  if (is.null(layout)) {\n",
    "    # Make the panel\n",
    "    # ncol: Number of columns of plots\n",
    "    # nrow: Number of rows needed, calculated from # of cols\n",
    "    layout <- t(matrix(seq(1, cols * ceiling(numPlots/cols)),\n",
    "                       ncol = cols, nrow = ceiling(numPlots/cols)))\n",
    "  }\n",
    "  \n",
    "  if (numPlots==1) {\n",
    "    return(plots[[1]])\n",
    "    \n",
    "  } else {\n",
    "    # Set up the page\n",
    "    return(grid.arrange(grobs=plots, layout_matrix=layout))\n",
    "  }\n",
    "}"
   ]
  },
  {
   "cell_type": "code",
   "execution_count": null,
   "metadata": {},
   "outputs": [],
   "source": []
  }
 ],
 "metadata": {
  "kernelspec": {
   "display_name": "R",
   "language": "R",
   "name": "ir"
  },
  "language_info": {
   "codemirror_mode": "r",
   "file_extension": ".r",
   "mimetype": "text/x-r-source",
   "name": "R",
   "pygments_lexer": "r",
   "version": "3.5.1"
  }
 },
 "nbformat": 4,
 "nbformat_minor": 2
}
