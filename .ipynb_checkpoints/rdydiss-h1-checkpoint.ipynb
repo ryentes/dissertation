{
 "cells": [
  {
   "cell_type": "code",
   "execution_count": 1,
   "metadata": {},
   "outputs": [],
   "source": [
    "library(rdydisstools)\n",
    "setwd('~/notebooks/dissertation')\n",
    "loadpackages(c('doParallel', 'foreach', 'logging', 'glue', 'grid', 'gridExtra', 'dplyr', 'ggplot2', 'DescTools', 'careless'))\n",
    "nDatasets <- 5000"
   ]
  },
  {
   "cell_type": "code",
   "execution_count": 2,
   "metadata": {},
   "outputs": [],
   "source": [
    "registerDoParallel(72)\n",
    "h1data <- foreach(i=1:nDatasets, .verbose=FALSE) %dopar% {\n",
    "    # Initialize logging\n",
    "    addHandler(writeToFile, file=glue::glue('~/notebooks/dissertation/logs/h1/sim{i}.log'), level='INFO')\n",
    "    logstring <- glue::glue('dis.h1.{i}')\n",
    "    \n",
    "    # Specify path for sample\n",
    "    datasetstring <- glue::glue(\"~/notebooks/dissertation/data/simsample{i}.RData\")\n",
    "    logging::loginfo(glue::glue('dataset loading from data/simsample{i}'), logger=logstring)\n",
    "    \n",
    "    #load sample dataset into memory\n",
    "    load(datasetstring)\n",
    "    logging::loginfo(glue::glue('dataframe has been loaded from: {datasetstring}'), logger=logstring)\n",
    "    \n",
    "    #Evaluate Hypothesis 1\n",
    "    t(dispatchHypothesisEval(df, hypothesis=\"h1\", lastColumn=100))\n",
    "} %>% do.call(\"rbind.data.frame\", .)\n",
    "\n",
    "save(h1data, file='~/notebooks/dissertation/artifacts/h1/h1data.RData')"
   ]
  },
  {
   "cell_type": "code",
   "execution_count": 5,
   "metadata": {},
   "outputs": [],
   "source": [
    "load(\"~/notebooks/dissertation/artifacts/h1/h1data.RData\")"
   ]
  },
  {
   "cell_type": "code",
   "execution_count": 29,
   "metadata": {},
   "outputs": [
    {
     "data": {
      "text/html": [
       "<table>\n",
       "<caption>A data.frame: 1 × 5</caption>\n",
       "<thead>\n",
       "\t<tr><th scope=col>npassed</th><th scope=col>nAntiPassed</th><th scope=col>passed</th><th scope=col>xbar_ht</th><th scope=col>xbar_hc</th></tr>\n",
       "\t<tr><th scope=col>&lt;dbl&gt;</th><th scope=col>&lt;dbl&gt;</th><th scope=col>&lt;dbl&gt;</th><th scope=col>&lt;dbl&gt;</th><th scope=col>&lt;dbl&gt;</th></tr>\n",
       "</thead>\n",
       "<tbody>\n",
       "\t<tr><td>1741</td><td>3</td><td>0.3482</td><td>0.2887405</td><td>0.1749188</td></tr>\n",
       "</tbody>\n",
       "</table>\n"
      ],
      "text/latex": [
       "A data.frame: 1 × 5\n",
       "\\begin{tabular}{r|lllll}\n",
       " npassed & nAntiPassed & passed & xbar\\_ht & xbar\\_hc\\\\\n",
       " <dbl> & <dbl> & <dbl> & <dbl> & <dbl>\\\\\n",
       "\\hline\n",
       "\t 1741 & 3 & 0.3482 & 0.2887405 & 0.1749188\\\\\n",
       "\\end{tabular}\n"
      ],
      "text/markdown": [
       "\n",
       "A data.frame: 1 × 5\n",
       "\n",
       "| npassed &lt;dbl&gt; | nAntiPassed &lt;dbl&gt; | passed &lt;dbl&gt; | xbar_ht &lt;dbl&gt; | xbar_hc &lt;dbl&gt; |\n",
       "|---|---|---|---|---|\n",
       "| 1741 | 3 | 0.3482 | 0.2887405 | 0.1749188 |\n",
       "\n"
      ],
      "text/plain": [
       "  npassed nAntiPassed passed xbar_ht   xbar_hc  \n",
       "1 1741    3           0.3482 0.2887405 0.1749188"
      ]
     },
     "metadata": {},
     "output_type": "display_data"
    }
   ],
   "source": [
    "h1data %>% mutate(antiPass=case_when((ht_b < hc_b) & !(hasOverlap) ~ 1,\n",
    "                                      TRUE ~ 0)) %>% \n",
    "           summarize(npassed=sum(hypTest), nAntiPassed=sum(antiPass), passed = (sum(hypTest)/5000), xbar_ht=mean(ht_b), xbar_hc=mean(hc_b))"
   ]
  },
  {
   "cell_type": "code",
   "execution_count": 23,
   "metadata": {},
   "outputs": [
    {
     "data": {
      "text/plain": [
       "\n",
       "\tPaired t-test\n",
       "\n",
       "data:  h1data$ht_b and h1data$hc_b\n",
       "t = 86.586, df = 4999, p-value < 2.2e-16\n",
       "alternative hypothesis: true difference in means is greater than 0\n",
       "95 percent confidence interval:\n",
       " 0.111659      Inf\n",
       "sample estimates:\n",
       "mean of the differences \n",
       "              0.1138217 \n"
      ]
     },
     "metadata": {},
     "output_type": "display_data"
    },
    {
     "data": {
      "text/html": [
       "1.22450945190733"
      ],
      "text/latex": [
       "1.22450945190733"
      ],
      "text/markdown": [
       "1.22450945190733"
      ],
      "text/plain": [
       "[1] 1.224509"
      ]
     },
     "metadata": {},
     "output_type": "display_data"
    },
    {
     "data": {
      "text/plain": [
       "\n",
       "\tWilcoxon rank sum test with continuity correction\n",
       "\n",
       "data:  h1data$ht_b and h1data$hc_b\n",
       "W = 19501286, p-value < 2.2e-16\n",
       "alternative hypothesis: true location shift is greater than 0\n"
      ]
     },
     "metadata": {},
     "output_type": "display_data"
    }
   ],
   "source": [
    "t.test(h1data$ht_b, h1data$hc_b, paired=TRUE, alternative=\"greater\")\n",
    "cohensD(h1data$ht_b, h1data$hc_b, method='paired')\n",
    "wilcox.test(h1data$ht_b, h1data$hc_b, alternative=\"greater\")\n"
   ]
  }
 ],
 "metadata": {
  "kernelspec": {
   "display_name": "R",
   "language": "R",
   "name": "ir"
  },
  "language_info": {
   "codemirror_mode": "r",
   "file_extension": ".r",
   "mimetype": "text/x-r-source",
   "name": "R",
   "pygments_lexer": "r",
   "version": "3.6.0"
  }
 },
 "nbformat": 4,
 "nbformat_minor": 2
}
