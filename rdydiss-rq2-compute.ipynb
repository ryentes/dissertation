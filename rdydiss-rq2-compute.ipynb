{
 "cells": [
  {
   "cell_type": "code",
   "execution_count": 1,
   "metadata": {},
   "outputs": [],
   "source": [
    "library(rdydisstools)\n",
    "setwd('~/notebooks/dissertation')\n",
    "loadpackages(c('doParallel', 'foreach', 'logging', 'glue', 'grid', 'gridExtra', 'dplyr', 'ggplot2'))\n",
    "nDatasets <- 5000"
   ]
  },
  {
   "cell_type": "code",
   "execution_count": 2,
   "metadata": {},
   "outputs": [],
   "source": [
    "registerDoParallel(72)\n",
    "compmethods <- foreach(i=1:nDatasets, .verbose=FALSE) %dopar% {\n",
    "    # Initialize logging\n",
    "    addHandler(writeToFile, file=glue::glue('~/notebooks/dissertation/logs/rq2/sim{i}.log'), level='INFO')\n",
    "    logstring <- glue::glue('dis.rq2.{i}')\n",
    "    \n",
    "    # Specify path for sample\n",
    "    datasetstring <- glue::glue(\"~/notebooks/dissertation/data/simsample{i}.RData\")\n",
    "    logging::loginfo(glue::glue('dataset loaded from data/simsample{i}'), logger=logstring)\n",
    "    \n",
    "    # load sample dataset into memory\n",
    "    load(datasetstring)\n",
    "    logging::loginfo(glue::glue('dataframe has been loaded from: {datasetstring}'), logger=logstring)\n",
    "    \n",
    "    # Evaluate RQ 2\n",
    "    dispatchRQ2(df, lastColumn=100, LS_CUT=.4, EO_CUT=.2, OUT_CUT=.5, i=i)\n",
    "} %>% do.call(\"rbind.data.frame\", .)\n",
    "\n",
    "save(compmethods, file='~/notebooks/dissertation/artifacts/rq2/compmethods.RData')"
   ]
  }
 ],
 "metadata": {
  "kernelspec": {
   "display_name": "R",
   "language": "R",
   "name": "ir"
  },
  "language_info": {
   "codemirror_mode": "r",
   "file_extension": ".r",
   "mimetype": "text/x-r-source",
   "name": "R",
   "pygments_lexer": "r",
   "version": "3.6.0"
  }
 },
 "nbformat": 4,
 "nbformat_minor": 2
}
