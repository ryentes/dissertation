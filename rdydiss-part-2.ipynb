{
 "cells": [
  {
   "cell_type": "code",
   "execution_count": 1,
   "metadata": {},
   "outputs": [],
   "source": [
    "library(rdydisstools)\n",
    "loadpackages(c('mirt', 'doParallel', 'foreach', 'logging', 'glue'))"
   ]
  },
  {
   "cell_type": "code",
   "execution_count": 9,
   "metadata": {},
   "outputs": [
    {
     "name": "stdout",
     "output_type": "stream",
     "text": [
      "numValues: 1, numResults: 0, stopped: TRUE\n",
      "got results for task 1\n",
      "numValues: 1, numResults: 1, stopped: TRUE\n",
      "calling combine function\n",
      "evaluating call object to combine results:\n",
      "  fun(accum, result.1)\n",
      "returning status TRUE\n"
     ]
    },
    {
     "data": {
      "text/html": [
       "<ol>\n",
       "\t<li>NULL</li>\n",
       "</ol>\n"
      ],
      "text/latex": [
       "\\begin{enumerate}\n",
       "\\item NULL\n",
       "\\end{enumerate}\n"
      ],
      "text/markdown": [
       "1. NULL\n",
       "\n",
       "\n"
      ],
      "text/plain": [
       "[[1]]\n",
       "NULL\n"
      ]
     },
     "metadata": {},
     "output_type": "display_data"
    }
   ],
   "source": [
    "load(file='~/dissertation/datamodels/hexaco.RData')\n",
    "\n",
    "# Seed list generated using random.org query: \n",
    "# https://www.random.org/integer-sets/?sets=1&num=5000&min=1&max=1000000000&seqnos=on&commas=on&sort=on&order=index&format=html&rnd=new\n",
    "# Date: 21-Aug-2018\n",
    "seeds <- read.table('~/dissertation/seeds/simulationSeeds.txt', header=FALSE, sep=',')$V1\n",
    "\n",
    "nObs <- 500\n",
    "nDatasets <- 5000\n",
    "ls <- crModel(label='longstring', mu=.02, sigma=.01)\n",
    "cent <- crModel(label='centered', mu=.06, sigma=.02)\n",
    "\n",
    "registerDoParallel(24)\n",
    "\n",
    "foreach(i=1:nDatasets, .verbose=TRUE) %dopar% {\n",
    "    addHandler(writeToFile, file=glue::glue('~/dissertation/logs/simulation/sim{i}.log'), level='INFO')\n",
    "    logstring <- glue::glue('dis.simulation.{i}')\n",
    "    \n",
    "    set.seed(seeds[i])\n",
    "    logging::loginfo(glue::glue('seed has been set to: {seeds[i]}'), logger=logstring) \n",
    "    \n",
    "    f <- simFactorScores(hexaco$factorCorrelations, nObs)\n",
    "    logging::loginfo('Factor scores have been simulated successfully', logger=logstring)\n",
    "    \n",
    "    df <- mirt::simdata(hexaco$a, hexaco$d, itemtype='graded', Theta=f, mins=1)\n",
    "    logging::loginfo('Item-level data has been simulated successfully', logger=logstring)\n",
    "    \n",
    "    colnames(df) <- rownames(hexaco$itemParameters)\n",
    "    logging::loginfo('Column names of dataset have been set from hexaco itemParameters', logger=logstring)\n",
    "    \n",
    "    nLs <- getProportionFromModel(ls, nObs)\n",
    "    nCent <- getProportionFromModel(cent, nObs)\n",
    "    logging::loginfo(glue::glue('Dataset has been assigned {nLs} longstring respondents and {nCent} centered respondents'), logger=logstring)\n",
    "    \n",
    "    whichCL <- sample(nObs, sum(nLs, nCent))\n",
    "    cl <- cbind(rep(0,nObs), rep(NA, nObs))\n",
    "    colnames(cl) <- c('careless', 'crModel')\n",
    "    logging::loginfo('Columns have been created with placeholders for careless designation and type', logger=logstring)\n",
    "\n",
    "    \n",
    "    cl[whichCL,1] <- 1\n",
    "    cl[whichCL,2] <- recursiveAssign(whichCL, c(nLs, nCent), c('longstring','centered'))\n",
    "    logging::loginfo('Designation and type has been populated for all respondents', logger=logstring)\n",
    "    \n",
    "    df <- cbind(as.data.frame(df), as.data.frame(cl))\n",
    "    logging::loginfo('Dataset is ready for injection of careless respondents', logger=logstring)\n",
    "    \n",
    "    careless <- df[,'careless'] == 1\n",
    "    df[careless,] <- t(apply(df[careless,], 1, simCareless, logstring=logstring, floor=1, ceiling=7))\n",
    "    df[,1:101] <- apply(df[1:101], 2, as.numeric)\n",
    "    logging::loginfo('Careless respondents have been injected into dataset')\n",
    "    \n",
    "    save(df, file=glue::glue('~/dissertation/data/simsample{i}.RData'))\n",
    "    logging::loginfo('Simulation complete: dataset has been saved to datasets', logger = logstring)\n",
    "}"
   ]
  },
  {
   "cell_type": "code",
   "execution_count": null,
   "metadata": {},
   "outputs": [],
   "source": []
  }
 ],
 "metadata": {
  "kernelspec": {
   "display_name": "R",
   "language": "R",
   "name": "ir"
  },
  "language_info": {
   "codemirror_mode": "r",
   "file_extension": ".r",
   "mimetype": "text/x-r-source",
   "name": "R",
   "pygments_lexer": "r",
   "version": "3.5.0"
  }
 },
 "nbformat": 4,
 "nbformat_minor": 2
}
