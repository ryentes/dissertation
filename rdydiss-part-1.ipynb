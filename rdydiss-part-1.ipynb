{
 "cells": [
  {
   "cell_type": "markdown",
   "metadata": {},
   "source": [
    "# Dissertation Part 1: Dataset Model Building\n",
    "The first thing we need to do is load some packages that we'll need."
   ]
  },
  {
   "cell_type": "code",
   "execution_count": 1,
   "metadata": {},
   "outputs": [],
   "source": [
    "library(rdydisstools)\n",
    "loadpackages(c('dplyr', 'mirt', 'foreach', 'doParallel'))\n",
    "setwd('~/dissertation')"
   ]
  },
  {
   "cell_type": "code",
   "execution_count": 2,
   "metadata": {},
   "outputs": [],
   "source": [
    "d <- read.csv(\"sourcedata/hexaco.csv\", header=TRUE, stringsAsFactors=FALSE, row.names=NULL)"
   ]
  },
  {
   "cell_type": "markdown",
   "metadata": {},
   "source": [
    "Some of the country codes are missing in the data. Unfortunately, these values are set to \" \", which complicates the dataset. Let's find them and set them properly to NA"
   ]
  },
  {
   "cell_type": "code",
   "execution_count": 3,
   "metadata": {},
   "outputs": [],
   "source": [
    "x <- which(d[,243]== \" \")\n",
    "d[x,243] <- NA\n",
    "rm(x)"
   ]
  },
  {
   "cell_type": "markdown",
   "metadata": {},
   "source": [
    "Next let's do some basic cleaning. First we'll remove obeservations where respondents reported inadequate understanding of instructions or attention. Then, min time to completion was 0 seconds and max time to completion was 786816 seconds (about 9.5 days). Neither of these seem like very valid time frames to complete this survey, so we're going to impose some time bounds, removing response sets that took < 17.5 minutes or more than about 2 hours. I note that these time bounds are somewhat arbitrary, but they seemed like reasonable values after looking at the data. "
   ]
  },
  {
   "cell_type": "code",
   "execution_count": 4,
   "metadata": {},
   "outputs": [],
   "source": [
    "\n",
    "test1 <- d[,\"V1\"] >= 5 # Participant claims to understand the instructions\n",
    "test2 <- d[,\"V2\"] >= 5 # Participant claims to have answered accurately.\n",
    "test3 <- d[,\"elapse\"] < 6000 # Around 2 hours\n",
    "test4 <- d[,\"elapse\"] > 1037.456 # less than 17.5 minutes\n",
    "d <- d[which(test1 & test2 & test3 & test4),]"
   ]
  },
  {
   "cell_type": "markdown",
   "metadata": {},
   "source": [
    "The HSinc1 colname has an extra character or two in it, so let's get rid of that."
   ]
  },
  {
   "cell_type": "code",
   "execution_count": 5,
   "metadata": {},
   "outputs": [],
   "source": [
    "colnames(d)[1] <- \"HSinc1\""
   ]
  },
  {
   "cell_type": "markdown",
   "metadata": {},
   "source": [
    "Some of the scales have reverse coded items. Let's select out those constructs so that we can code them properly."
   ]
  },
  {
   "cell_type": "code",
   "execution_count": 6,
   "metadata": {},
   "outputs": [],
   "source": [
    "HSincerity <- d[,1:10]\n",
    "HFairness <- d[,11:20]\n",
    "EAnxiety <- d[,51:60]\n",
    "EDependence <- d[,61:70]\n",
    "XLiveliness <- d[,111:120]\n",
    "AForgiveness <- d[,121:130]\n",
    "APatience <- d[,151:160]\n",
    "CPerfectionism <- d[,181:190]\n",
    "OInquisitiveness <- d[,211:220]\n",
    "OUnconventionality <- d[,231:240]"
   ]
  },
  {
   "cell_type": "markdown",
   "metadata": {},
   "source": [
    "Now just a vector of names for the overall constructs"
   ]
  },
  {
   "cell_type": "code",
   "execution_count": 7,
   "metadata": {},
   "outputs": [],
   "source": [
    "n <- c(\"HSincerity\", \"HFairness\", \"EAnxiety\", \"EDependence\", \"XLiveliness\",\n",
    "       \"AForgiveness\", \"APatience\", \"CPerfectionism\", \"OInquisitiveness\", \n",
    "       \"OUnconventionality\")"
   ]
  },
  {
   "cell_type": "markdown",
   "metadata": {},
   "source": [
    "We need to define keys for the negatively coded variables. I should note that in this case, negative is defined in reference to the construct name, and not the social desirability of the construct. Dependence is absent because that scale consists wholly of positive items."
   ]
  },
  {
   "cell_type": "code",
   "execution_count": 8,
   "metadata": {},
   "outputs": [],
   "source": [
    "key <- list()\n",
    "key[[\"HSinc\"]] <- c(2:10)\n",
    "key[[\"HFair\"]] <- c(6:10)\n",
    "key[[\"EAnxi\"]] <- c(6:10)\n",
    "key[[\"XLive\"]] <- c(9,10)\n",
    "key[[\"AForg\"]] <- c(5:10)\n",
    "key[[\"APati\"]] <- c(6:10)\n",
    "key[[\"CPerf\"]] <- c(9,10)\n",
    "key[[\"OInqu\"]] <- c(7:10)\n",
    "key[[\"OUnco\"]] <- c(6:10)"
   ]
  },
  {
   "cell_type": "markdown",
   "metadata": {},
   "source": [
    "Alright, now we're ready to reverse code all the items and compute factor scores for each person. There's almost certainly a better way to do this, but this was already coded, so I used it."
   ]
  },
  {
   "cell_type": "code",
   "execution_count": 9,
   "metadata": {},
   "outputs": [],
   "source": [
    "for (i in 1:length(n)){\n",
    "  name <- substr(n[i],1,5)\n",
    "  if(!is.null(key[[name]])) {  \n",
    "    tmp <- reverseCode(eval(as.name(n[i])),key[[name]],7)\n",
    "  } else tmp <- eval(as.name(n[i]))\n",
    "  tmp <- rowMeans(tmp)\n",
    "  assign(name, tmp) \n",
    "}"
   ]
  },
  {
   "cell_type": "markdown",
   "metadata": {},
   "source": [
    "Now let's compile those scores into a matrix"
   ]
  },
  {
   "cell_type": "code",
   "execution_count": 10,
   "metadata": {},
   "outputs": [],
   "source": [
    "factors <- cbind(HSinc,HFair,EAnxi,EDepe,XLive,AForg,APati,CPerf,OInqu,OUnco)\n",
    "fcorr <- cor(factors)"
   ]
  },
  {
   "cell_type": "markdown",
   "metadata": {},
   "source": [
    "It's time to estimate the item parameters for each construct using the graded response model. eval(as.name()) replaces itself with the \"name\" for the current value of x. Then we need to extract the item parameters for each construct and bind it into one dataset.."
   ]
  },
  {
   "cell_type": "code",
   "execution_count": 11,
   "metadata": {},
   "outputs": [],
   "source": [
    "registerDoParallel(24)\n",
    "ipar <- foreach(c=1:length(n), .combine=rbind) %dopar% {\n",
    "  y <- mirt(eval(as.name(n[c])), 1)\n",
    "  as.data.frame(coef(y, simplify=T)$items) \n",
    "}"
   ]
  },
  {
   "cell_type": "markdown",
   "metadata": {},
   "source": [
    "Makes the rownames for our item parameters, because rbind.fill doesn't do that for us."
   ]
  },
  {
   "cell_type": "code",
   "execution_count": 12,
   "metadata": {},
   "outputs": [],
   "source": [
    "rows <- makeRownames(n)\n",
    "rownames(ipar) <- rows"
   ]
  },
  {
   "cell_type": "markdown",
   "metadata": {},
   "source": [
    "Now let's store these parameters in a dataModel object and save it to our dataModel library"
   ]
  },
  {
   "cell_type": "code",
   "execution_count": 13,
   "metadata": {},
   "outputs": [],
   "source": [
    "hexaco <- dataModel(fcorr, ipar, 5)\n",
    "save(hexaco, file='datamodels/hexaco.RData')"
   ]
  }
 ],
 "metadata": {
  "kernelspec": {
   "display_name": "R",
   "language": "R",
   "name": "ir"
  },
  "language_info": {
   "codemirror_mode": "r",
   "file_extension": ".r",
   "mimetype": "text/x-r-source",
   "name": "R",
   "pygments_lexer": "r",
   "version": "3.5.1"
  }
 },
 "nbformat": 4,
 "nbformat_minor": 2
}
